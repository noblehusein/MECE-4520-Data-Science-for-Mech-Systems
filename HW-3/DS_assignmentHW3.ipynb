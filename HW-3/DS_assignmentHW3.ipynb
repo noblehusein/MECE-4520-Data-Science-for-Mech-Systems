{
  "nbformat": 4,
  "nbformat_minor": 0,
  "metadata": {
    "colab": {
      "name": "DS-assignmentHW3.ipynb",
      "provenance": [],
      "collapsed_sections": []
    },
    "kernelspec": {
      "name": "python3",
      "display_name": "Python 3"
    },
    "language_info": {
      "name": "python"
    }
  },
  "cells": [
    {
      "cell_type": "code",
      "metadata": {
        "colab": {
          "base_uri": "https://localhost:8080/"
        },
        "id": "BpFfsy3w1gCm",
        "outputId": "885894bd-e49e-46dd-c5a5-9e69c669f7c0"
      },
      "source": [
        "%matplotlib notebook\n",
        "from typing import Callable, Dict, List, Tuple, Union\n",
        "\n",
        "import matplotlib.pyplot as plt\n",
        "import numpy as np\n",
        "import pandas as pd\n",
        "import seaborn as sns\n",
        "import statsmodels.formula.api as smf\n",
        "\n",
        "from matplotlib import cm\n",
        "\n",
        "sns.set(font_scale=1.5)\n",
        "sns.set_style(\"whitegrid\", {'grid.linestyle':'--'})"
      ],
      "execution_count": null,
      "outputs": [
        {
          "output_type": "stream",
          "name": "stderr",
          "text": [
            "/usr/local/lib/python3.7/dist-packages/statsmodels/tools/_testing.py:19: FutureWarning: pandas.util.testing is deprecated. Use the functions in the public API at pandas.testing instead.\n",
            "  import pandas.util.testing as tm\n"
          ]
        }
      ]
    },
    {
      "cell_type": "code",
      "metadata": {
        "colab": {
          "base_uri": "https://localhost:8080/",
          "height": 204
        },
        "id": "vqaFfybA9eOk",
        "outputId": "86ed0fa5-2b29-4232-970c-bdceb47993cc"
      },
      "source": [
        "auto = pd.read_csv(\"data.csv\")\n",
        "# drop the null values\n",
        "auto.head()\n"
      ],
      "execution_count": null,
      "outputs": [
        {
          "output_type": "execute_result",
          "data": {
            "text/html": [
              "<div>\n",
              "<style scoped>\n",
              "    .dataframe tbody tr th:only-of-type {\n",
              "        vertical-align: middle;\n",
              "    }\n",
              "\n",
              "    .dataframe tbody tr th {\n",
              "        vertical-align: top;\n",
              "    }\n",
              "\n",
              "    .dataframe thead th {\n",
              "        text-align: right;\n",
              "    }\n",
              "</style>\n",
              "<table border=\"1\" class=\"dataframe\">\n",
              "  <thead>\n",
              "    <tr style=\"text-align: right;\">\n",
              "      <th></th>\n",
              "      <th>X</th>\n",
              "      <th>Y</th>\n",
              "      <th>Unnamed: 2</th>\n",
              "      <th>Unnamed: 3</th>\n",
              "      <th>Unnamed: 4</th>\n",
              "      <th>Unnamed: 5</th>\n",
              "      <th>Unnamed: 6</th>\n",
              "    </tr>\n",
              "  </thead>\n",
              "  <tbody>\n",
              "    <tr>\n",
              "      <th>0</th>\n",
              "      <td>-15.000</td>\n",
              "      <td>-356.996</td>\n",
              "      <td>NaN</td>\n",
              "      <td>NaN</td>\n",
              "      <td>NaN</td>\n",
              "      <td>NaN</td>\n",
              "      <td>NaN</td>\n",
              "    </tr>\n",
              "    <tr>\n",
              "      <th>1</th>\n",
              "      <td>-14.824</td>\n",
              "      <td>-394.723</td>\n",
              "      <td>NaN</td>\n",
              "      <td>NaN</td>\n",
              "      <td>NaN</td>\n",
              "      <td>NaN</td>\n",
              "      <td>NaN</td>\n",
              "    </tr>\n",
              "    <tr>\n",
              "      <th>2</th>\n",
              "      <td>-14.648</td>\n",
              "      <td>-326.049</td>\n",
              "      <td>NaN</td>\n",
              "      <td>NaN</td>\n",
              "      <td>NaN</td>\n",
              "      <td>NaN</td>\n",
              "      <td>NaN</td>\n",
              "    </tr>\n",
              "    <tr>\n",
              "      <th>3</th>\n",
              "      <td>-14.472</td>\n",
              "      <td>-250.838</td>\n",
              "      <td>NaN</td>\n",
              "      <td>NaN</td>\n",
              "      <td>NaN</td>\n",
              "      <td>NaN</td>\n",
              "      <td>NaN</td>\n",
              "    </tr>\n",
              "    <tr>\n",
              "      <th>4</th>\n",
              "      <td>-14.296</td>\n",
              "      <td>-373.231</td>\n",
              "      <td>NaN</td>\n",
              "      <td>NaN</td>\n",
              "      <td>NaN</td>\n",
              "      <td>NaN</td>\n",
              "      <td>NaN</td>\n",
              "    </tr>\n",
              "  </tbody>\n",
              "</table>\n",
              "</div>"
            ],
            "text/plain": [
              "        X        Y  Unnamed: 2  Unnamed: 3  Unnamed: 4  Unnamed: 5  Unnamed: 6\n",
              "0 -15.000 -356.996         NaN         NaN         NaN         NaN         NaN\n",
              "1 -14.824 -394.723         NaN         NaN         NaN         NaN         NaN\n",
              "2 -14.648 -326.049         NaN         NaN         NaN         NaN         NaN\n",
              "3 -14.472 -250.838         NaN         NaN         NaN         NaN         NaN\n",
              "4 -14.296 -373.231         NaN         NaN         NaN         NaN         NaN"
            ]
          },
          "metadata": {},
          "execution_count": 2
        }
      ]
    },
    {
      "cell_type": "code",
      "metadata": {
        "id": "VidOWrIA9guN"
      },
      "source": [
        ""
      ],
      "execution_count": null,
      "outputs": []
    },
    {
      "cell_type": "code",
      "metadata": {
        "id": "Yt937j9R3B73"
      },
      "source": [
        "def linear_regression_loss(\n",
        "    X: np.ndarray,\n",
        "    y: np.ndarray,\n",
        "    betas: np.ndarray,\n",
        "    normalized: bool = True,\n",
        ") -> float:\n",
        "    \"\"\"Calculate the loss of a linear regression problem.\"\"\"\n",
        "    if not isinstance(betas, np.ndarray):\n",
        "        betas = np.array(betas).reshape(-1, 1)\n",
        "    if y.ndim == 1:\n",
        "        y = y.reshape(-1, 1)\n",
        "    \n",
        "    y_pred = X @ betas\n",
        "    assert y.shape == y_pred.shape, f\"y has shape of {y.shape} and y_pred of {y_pred.shape}\"\n",
        "    #print(y_pred,y)\n",
        "    loss = np.sum(np.square(y - X @ betas))\n",
        "    \n",
        "    if normalized:\n",
        "        loss /= len(y)\n",
        "    \n",
        "    return loss"
      ],
      "execution_count": null,
      "outputs": []
    },
    {
      "cell_type": "code",
      "metadata": {
        "id": "JpwowLlm-6RO"
      },
      "source": [
        "def linear_regression_loss_gradient(\n",
        "    X: np.ndarray,\n",
        "    y: np.ndarray,\n",
        "    betas: np.ndarray,\n",
        "    normalized: bool = True,\n",
        ") -> np.ndarray:\n",
        "    \"\"\"Calculates the gradient of the loss of a linear regression problem.\"\"\"\n",
        "    if not isinstance(betas, np.ndarray):\n",
        "        betas = np.array(betas).reshape(-1, 1)\n",
        "    if y.ndim == 1:\n",
        "        y = y.reshape(-1, 1)\n",
        "        \n",
        "    grad = -2 * (X.T @ (y - X @ betas))\n",
        "    assert grad.shape == betas.shape, f\"The shape of grad is {grad.shape} and betas is {betas.shape}\"\n",
        "    if normalized:\n",
        "        grad /= len(y)\n",
        "    \n",
        "    return grad"
      ],
      "execution_count": null,
      "outputs": []
    },
    {
      "cell_type": "code",
      "metadata": {
        "colab": {
          "base_uri": "https://localhost:8080/"
        },
        "id": "fN2BiP5H950p",
        "outputId": "6307c2db-4895-4a08-e3f0-91e83b07b941"
      },
      "source": [
        "X_auto = np.vstack((np.ones(shape=len(auto)), auto[\"X\"].values.T)).T\n",
        "y_auto = auto[\"Y\"].values\n",
        "\n",
        "# test run\n",
        "auto_betas = [1, 1]\n",
        "linear_regression_loss(X=X_auto, y=y_auto, betas=auto_betas)"
      ],
      "execution_count": null,
      "outputs": [
        {
          "output_type": "execute_result",
          "data": {
            "text/plain": [
              "30068.440558989998"
            ]
          },
          "metadata": {},
          "execution_count": 5
        }
      ]
    },
    {
      "cell_type": "code",
      "metadata": {
        "id": "YPvNPTJfGjC-"
      },
      "source": [
        "def gradient_descent(\n",
        "    X: np.ndarray,\n",
        "    y: np.ndarray,\n",
        "    initial_guess: Union[List, np.ndarray], \n",
        "    learning_rate: float,\n",
        "    loss_function: Callable,\n",
        "    gradient_function: Callable,\n",
        "    verbose: bool = False,\n",
        "    threshold: float = 1e-6,\n",
        "    #fix_guess: Dict = None,\n",
        ") -> Tuple[List, List]:\n",
        "    \"\"\"Gradient descent routine.\n",
        "    \n",
        "    Args:\n",
        "        X: The input data without labels.\n",
        "        y: The labels.\n",
        "        initial_guess: The starting point of the gradient descent. \n",
        "        learning_rate: The learning rate of the gradient descent.\n",
        "        loss_function: Provided loss function, that takes (X, y, parameter) as inputs.\n",
        "        gradient_function: Provided gradient of the loss function, that takes (X, y, parameter) as inputs.\n",
        "        verbose: If set to True, print out intermediate results.\n",
        "        threshold: Absolute value of different in loss, below which is considered converged.\n",
        "        fix_guess: A dictionay to fix given dimension(s) of the parameter.\n",
        "        \n",
        "    Return:\n",
        "        List: The history of parameters.\n",
        "        List: The history of the losses.\n",
        "    \"\"\"\n",
        "    guess_current = np.array(initial_guess).reshape(-1, 1)\n",
        "    #if fix_guess:\n",
        "        #for k, v in fix_guess.items():\n",
        "            #guess_current[k] = v\n",
        "            \n",
        "    guess_iter = [guess_current]\n",
        "    losses_iter = [loss_function(X=X, y=y, betas=guess_current)]\n",
        "\n",
        "    difference = float(\"inf\")\n",
        "    iteration_count = 0\n",
        "    while abs(difference) > threshold:\n",
        "        iteration_count += 1\n",
        "        guess_next = guess_current - learning_rate * gradient_function(\n",
        "            X=X, y=y, betas=guess_current) \n",
        "        #if fix_guess:\n",
        "            #for k, v in fix_guess.items():\n",
        "                #guess_next[k] = v\n",
        "        guess_iter.append(guess_next)\n",
        "        \n",
        "        losses_next = loss_function(X=X, y=y, betas=guess_next)\n",
        "        difference = losses_next - losses_iter[-1]\n",
        "        losses_iter.append(losses_next)\n",
        "        \n",
        "        # update guess\n",
        "        guess_current = guess_next\n",
        "        # to print out intermediate results\n",
        "        if verbose and iteration_count % 10 == 0:\n",
        "            print(guess_next, losses_next)\n",
        "    \n",
        "    # some datatype processing\n",
        "    guess_iter: List[List[float]] = list(map(lambda x: list(x.flatten()), guess_iter))\n",
        "    return guess_iter, losses_iter"
      ],
      "execution_count": null,
      "outputs": []
    },
    {
      "cell_type": "code",
      "metadata": {
        "colab": {
          "base_uri": "https://localhost:8080/"
        },
        "id": "6bmV5qe5GmSs",
        "outputId": "60691d53-7fd9-46f8-bdc2-1d931a0f2bb5"
      },
      "source": [
        "auto_guess_iter, auto_losses_iter = gradient_descent(\n",
        "    X=X_auto,\n",
        "    y=y_auto,\n",
        "    initial_guess=[1, 1], \n",
        "    learning_rate=0.001,\n",
        "    loss_function=linear_regression_loss,\n",
        "    gradient_function=linear_regression_loss_gradient,\n",
        "    verbose=True,\n",
        "    threshold=1e-1,\n",
        "    #fix_guess={1: -0.2}\n",
        ")"
      ],
      "execution_count": null,
      "outputs": [
        {
          "output_type": "stream",
          "name": "stdout",
          "text": [
            "[[ 0.68556267]\n",
            " [14.2338476 ]] 7361.811772602872\n",
            "[[ 0.10365851]\n",
            " [15.36640873]] 7162.605592293876\n",
            "[[-0.49049943]\n",
            " [15.47480364]] 7125.895089657189\n",
            "[[-1.0755107 ]\n",
            " [15.49630589]] 7091.654417231319\n",
            "[[-1.64975487]\n",
            " [15.51022545]] 7058.68951656921\n",
            "[[-2.21328158]\n",
            " [15.52327728]] 7026.94525600324\n",
            "[[-2.76627829]\n",
            " [15.53603379]] 6996.376382680395\n",
            "[[-3.30894069]\n",
            " [15.54854756]] 6966.939375425137\n",
            "[[-3.84146184]\n",
            " [15.5608271 ]] 6938.592324911375\n",
            "[[-4.36403123]\n",
            " [15.57287714]] 6911.294873582087\n",
            "[[-4.87683485]\n",
            " [15.58470197]] 6885.008158189488\n",
            "[[-5.38005519]\n",
            " [15.59630583]] 6859.6947544655995\n",
            "[[-5.87387136]\n",
            " [15.60769283]] 6835.3186238414955\n",
            "[[-6.35845909]\n",
            " [15.61886703]] 6811.845062139379\n",
            "[[-6.83399084]\n",
            " [15.62983241]] 6789.240650164399\n",
            "[[-7.30063586]\n",
            " [15.64059287]] 6767.473206125922\n",
            "[[-7.75856022]\n",
            " [15.65115223]] 6746.511739820463\n",
            "[[-8.2079269 ]\n",
            " [15.66151427]] 6726.326408511093\n",
            "[[-8.6488958 ]\n",
            " [15.67168265]] 6706.888474440468\n",
            "[[-9.08162389]\n",
            " [15.68166101]] 6688.1702639170435\n",
            "[[-9.50626515]\n",
            " [15.6914529 ]] 6670.145127916155\n",
            "[[-9.92297072]\n",
            " [15.70106179]] 6652.787404139947\n",
            "[[-10.3318889 ]\n",
            " [ 15.71049112]] 6636.072380482083\n",
            "[[-10.73316521]\n",
            " [ 15.71974422]] 6619.97625984523\n",
            "[[-11.12694248]\n",
            " [ 15.72882441]] 6604.476126261258\n",
            "[[-11.51336084]\n",
            " [ 15.7377349 ]] 6589.549912265889\n",
            "[[-11.89255781]\n",
            " [ 15.74647888]] 6575.176367481353\n",
            "[[-12.26466835]\n",
            " [ 15.75505945]] 6561.335028362322\n",
            "[[-12.62982489]\n",
            " [ 15.76347966]] 6548.006189062075\n",
            "[[-12.98815739]\n",
            " [ 15.77174252]] 6535.1708733773685\n",
            "[[-13.33979337]\n",
            " [ 15.77985096]] 6522.81080773212\n",
            "[[-13.68485797]\n",
            " [ 15.78780788]] 6510.908395161394\n",
            "[[-14.02347402]\n",
            " [ 15.79561609]] 6499.4466902587\n",
            "[[-14.355762  ]\n",
            " [ 15.80327838]] 6488.409375050895\n",
            "[[-14.68184019]\n",
            " [ 15.81079748]] 6477.780735766365\n",
            "[[-15.00182464]\n",
            " [ 15.81817606]] 6467.545640463412\n",
            "[[-15.31582921]\n",
            " [ 15.82541676]] 6457.689517486972\n",
            "[[-15.62396567]\n",
            " [ 15.83252213]] 6448.198334723026\n",
            "[[-15.92634367]\n",
            " [ 15.83949473]] 6439.058579621156\n",
            "[[-16.22307084]\n",
            " [ 15.84633702]] 6430.257239956776\n",
            "[[-16.51425277]\n",
            " [ 15.85305144]] 6421.781785305709\n",
            "[[-16.79999309]\n",
            " [ 15.85964038]] 6413.620149204668\n",
            "[[-17.0803935 ]\n",
            " [ 15.86610618]] 6405.760711972305\n",
            "[[-17.35555379]\n",
            " [ 15.87245116]] 6398.192284166319\n",
            "[[-17.62557188]\n",
            " [ 15.87867756]] 6390.904090653106\n",
            "[[-17.89054388]\n",
            " [ 15.8847876 ]] 6383.885755267252\n",
            "[[-18.15056408]\n",
            " [ 15.89078345]] 6377.127286039032\n",
            "[[-18.40572502]\n",
            " [ 15.89666726]] 6370.619060968906\n",
            "[[-18.65611752]\n",
            " [ 15.90244111]] 6364.351814328713\n",
            "[[-18.90183068]\n",
            " [ 15.90810706]] 6358.316623470097\n",
            "[[-19.14295196]\n",
            " [ 15.91366712]] 6352.504896121388\n",
            "[[-19.37956716]\n",
            " [ 15.91912327]] 6346.908358154821\n",
            "[[-19.6117605 ]\n",
            " [ 15.92447746]] 6341.5190418066995\n",
            "[[-19.83961461]\n",
            " [ 15.9297316 ]] 6336.329274333726\n",
            "[[-20.06321059]\n",
            " [ 15.93488754]] 6331.331667089366\n",
            "[[-20.282628  ]\n",
            " [ 15.93994713]] 6326.5191050046615\n",
            "[[-20.49794494]\n",
            " [ 15.94491216]] 6321.8847364585345\n",
            "[[-20.70923804]\n",
            " [ 15.94978441]] 6317.421963523182\n",
            "[[-20.91658249]\n",
            " [ 15.95456561]] 6313.124432570629\n",
            "[[-21.1200521 ]\n",
            " [ 15.95925745]] 6308.986025227105\n",
            "[[-21.31971926]\n",
            " [ 15.96386161]] 6305.0008496623395\n",
            "[[-21.51565504]\n",
            " [ 15.96837973]] 6301.163232201396\n",
            "[[-21.70792918]\n",
            " [ 15.97281342]] 6297.4677092470865\n",
            "[[-21.8966101 ]\n",
            " [ 15.97716425]] 6293.909019501481\n",
            "[[-22.08176495]\n",
            " [ 15.98143377]] 6290.482096475413\n",
            "[[-22.26345963]\n",
            " [ 15.9856235 ]] 6287.182061275352\n",
            "[[-22.44175879]\n",
            " [ 15.98973494]] 6284.004215657345\n",
            "[[-22.61672591]\n",
            " [ 15.99376954]] 6280.944035338147\n",
            "[[-22.78842324]\n",
            " [ 15.99772874]] 6277.997163554021\n",
            "[[-22.95691188]\n",
            " [ 16.00161395]] 6275.159404858041\n",
            "[[-23.12225182]\n",
            " [ 16.00542656]] 6272.426719147047\n",
            "[[-23.28450188]\n",
            " [ 16.00916791]] 6269.795215909774\n",
            "[[-23.44371982]\n",
            " [ 16.01283935]] 6267.2611486879505\n",
            "[[-23.59996229]\n",
            " [ 16.01644218]] 6264.820909742481\n",
            "[[-23.7532849 ]\n",
            " [ 16.01997767]] 6262.471024917127\n",
            "[[-23.90374221]\n",
            " [ 16.0234471 ]] 6260.208148692373\n",
            "[[-24.05138779]\n",
            " [ 16.02685168]] 6258.029059422415\n",
            "[[-24.19627416]\n",
            " [ 16.03019265]] 6255.930654748534\n",
            "[[-24.3384529 ]\n",
            " [ 16.03347117]] 6253.909947182272\n",
            "[[-24.4779746 ]\n",
            " [ 16.03668843]] 6251.964059852159\n",
            "[[-24.61488892]\n",
            " [ 16.03984557]] 6250.090222407932\n",
            "[[-24.74924458]\n",
            " [ 16.0429437 ]] 6248.285767076402\n",
            "[[-24.88108941]\n",
            " [ 16.04598393]] 6246.548124863345\n",
            "[[-25.01047032]\n",
            " [ 16.04896735]] 6244.8748218960545\n",
            "[[-25.13743337]\n",
            " [ 16.05189502]] 6243.263475901289\n",
            "[[-25.26202372]\n",
            " [ 16.05476797]] 6241.711792813646\n",
            "[[-25.38428574]\n",
            " [ 16.05758724]] 6240.217563509513\n",
            "[[-25.50426292]\n",
            " [ 16.06035381]] 6238.778660661946\n",
            "[[-25.62199797]\n",
            " [ 16.06306869]] 6237.393035712006\n",
            "[[-25.73753278]\n",
            " [ 16.06573283]] 6236.05871595224\n",
            "[[-25.85090848]\n",
            " [ 16.06834718]] 6234.773801718139\n",
            "[[-25.96216542]\n",
            " [ 16.07091267]] 6233.536463683599\n",
            "[[-26.07134319]\n",
            " [ 16.07343023]] 6232.34494025652\n",
            "[[-26.17848064]\n",
            " [ 16.07590073]] 6231.197535070835\n",
            "[[-26.28361591]\n",
            " [ 16.07832506]] 6230.092614571398\n",
            "[[-26.38678642]\n",
            " [ 16.08070409]] 6229.028605688308\n",
            "[[-26.48802887]\n",
            " [ 16.08303866]] 6228.003993597323\n"
          ]
        }
      ]
    },
    {
      "cell_type": "code",
      "metadata": {
        "id": "rVnPX4cRGpBP"
      },
      "source": [
        "auto_losses_iter"
      ],
      "execution_count": null,
      "outputs": []
    },
    {
      "cell_type": "code",
      "metadata": {
        "colab": {
          "base_uri": "https://localhost:8080/"
        },
        "id": "NodiPA0tGsLU",
        "outputId": "b49e0fbd-0dc5-44a8-c4e2-35448e8f779f"
      },
      "source": [
        "x= auto.X.values\n",
        "y=auto.Y.values\n",
        "theto=np.array([[1],[1]])\n",
        "x=x.reshape((200,1))\n",
        "y=y.reshape(200,1)\n",
        "y.shape"
      ],
      "execution_count": null,
      "outputs": [
        {
          "output_type": "execute_result",
          "data": {
            "text/plain": [
              "(200, 1)"
            ]
          },
          "metadata": {},
          "execution_count": 21
        }
      ]
    },
    {
      "cell_type": "code",
      "metadata": {
        "colab": {
          "base_uri": "https://localhost:8080/"
        },
        "id": "WqmRkOLSLlUS",
        "outputId": "d14a94f7-d35d-4835-ddde-9721a04339ec"
      },
      "source": [
        ""
      ],
      "execution_count": null,
      "outputs": [
        {
          "output_type": "stream",
          "name": "stdout",
          "text": [
            "[[-31.80429889]\n",
            " [ 16.20562756]]\n"
          ]
        }
      ]
    },
    {
      "cell_type": "code",
      "metadata": {
        "id": "rHCHma02Me5H"
      },
      "source": [
        "def  cal_cost(theta,X,y):\n",
        "    '''\n",
        "\n",
        "    \n",
        "    Calculates the cost for given X and Y. The following shows and example of a single dimensional X\n",
        "    theta = Vector of thetas \n",
        "    X     = Row of X's np.zeros((2,j))\n",
        "    y     = Actual y's np.zeros((2,1))\n",
        "    \n",
        "    where:\n",
        "        j is the no of features\n",
        "    '''\n",
        "\n",
        "    \n",
        "    m = len(y)\n",
        "    \n",
        "    predictions = X @ theta\n",
        "    cost = (1/(m)) * np.sum(np.square(predictions-y))\n",
        "    return cost"
      ],
      "execution_count": null,
      "outputs": []
    },
    {
      "cell_type": "code",
      "metadata": {
        "colab": {
          "base_uri": "https://localhost:8080/"
        },
        "id": "h3FUmnpXLqo1",
        "outputId": "275102ea-d7a7-4a8b-8f31-498c4fe542d9"
      },
      "source": [
        "cal_cost([1,1],X_b,y)\n",
        "linear_regression_loss(X_b,y,[1,1])"
      ],
      "execution_count": null,
      "outputs": [
        {
          "output_type": "execute_result",
          "data": {
            "text/plain": [
              "30068.440558989998"
            ]
          },
          "metadata": {},
          "execution_count": 34
        }
      ]
    },
    {
      "cell_type": "code",
      "metadata": {
        "id": "Pw9jvma8MqEy"
      },
      "source": [
        "def minibatch_gradient_descent(X,y,theta,learning_rate=0.01,iterations=10,batch_size =200):\n",
        "    '''\n",
        "    X    = Matrix of X without added bias units\n",
        "    y    = Vector of Y\n",
        "    theta=Vector of thetas np.random.randn(j,1)\n",
        "    learning_rate \n",
        "    iterations = no of iterations\n",
        "    \n",
        "    Returns the final theta vector and array of cost history over no of iterations\n",
        "    '''\n",
        "    m = len(y)\n",
        "    cost_history = np.zeros(iterations)\n",
        "    n_batches = int(m/batch_size)\n",
        "    print(theta)\n",
        "    for it in range(iterations):\n",
        "        cost =0.0\n",
        "        #indices = np.random.permutation(m)\n",
        "        #X = X[indices]\n",
        "        #y = y[indices]\n",
        "        for i in range(0,m,batch_size):\n",
        "            X_i = X[i:i+batch_size]\n",
        "            y_i = y[i:i+batch_size]\n",
        "            \n",
        "            X_i = np.c_[np.ones(len(X_i)),X_i]\n",
        "           \n",
        "            prediction = np.dot(X_i,theta)\n",
        "\n",
        "            theta = theta -(1/m)*learning_rate*( X_i.T.dot((prediction - y_i)))\n",
        "            cost += linear_regression_loss(X_i,y_i,theta)\n",
        "        cost_history[it]  = cost\n",
        "        \n",
        "        print(theta)\n",
        "    return theta, cost_history"
      ],
      "execution_count": null,
      "outputs": []
    },
    {
      "cell_type": "code",
      "metadata": {
        "colab": {
          "base_uri": "https://localhost:8080/"
        },
        "id": "-n9kGfmfRM9Y",
        "outputId": "7efe5d50-eeb7-4436-fb06-78ad002403da"
      },
      "source": [
        "minibatch_gradient_descent(x,y,theto,learning_rate=0.001,iterations=10,batch_size =200)"
      ],
      "execution_count": null,
      "outputs": [
        {
          "output_type": "stream",
          "name": "stdout",
          "text": [
            "[[1]\n",
            " [1]]\n",
            "[[1.00520977]\n",
            " [2.58086123]]\n",
            "[[1.00646218]\n",
            " [3.98882805]]\n",
            "[[1.00419341]\n",
            " [5.24281792]]\n",
            "[[0.99879195]\n",
            " [6.35967841]]\n",
            "[[0.99060373]\n",
            " [7.35441367]]\n",
            "[[0.97993686]\n",
            " [8.24038617]]\n",
            "[[0.96706573]\n",
            " [9.02949628]]\n",
            "[[0.95223469]\n",
            " [9.73234229]]\n",
            "[[ 0.93566137]\n",
            " [10.35836285]]\n",
            "[[ 0.91753957]\n",
            " [10.91596388]]\n"
          ]
        },
        {
          "output_type": "execute_result",
          "data": {
            "text/plain": [
              "(array([[ 0.91753957],\n",
              "        [10.91596388]]),\n",
              " array([25343.48451706, 21595.53907114, 18622.4993278 , 16264.06806583,\n",
              "        14393.10734837, 12908.77915142, 11731.10493065, 10796.65060307,\n",
              "        10055.10413886,  9466.56111686]))"
            ]
          },
          "metadata": {},
          "execution_count": 53
        }
      ]
    },
    {
      "cell_type": "code",
      "metadata": {
        "id": "5L2q0OkMRSmQ"
      },
      "source": [
        "import numpy as np \n",
        "from PIL import Image\n",
        "\n",
        "from urllib.request import urlopen\n",
        "\n",
        "miaw=urlopen('https://raw.githubusercontent.com/changyaochen/MECE4520/master/lectures/lecture_1/leena.png')\n",
        "image_data = Image.open(miaw)\n",
        "X = np.array(image_data)"
      ],
      "execution_count": null,
      "outputs": []
    },
    {
      "cell_type": "code",
      "metadata": {
        "colab": {
          "base_uri": "https://localhost:8080/"
        },
        "id": "jyMk8J5bfKBd",
        "outputId": "c553fc9c-3699-4097-ac5d-77e320b9ec4d"
      },
      "source": [
        "X"
      ],
      "execution_count": null,
      "outputs": [
        {
          "output_type": "execute_result",
          "data": {
            "text/plain": [
              "array([[162, 162, 162, ..., 170, 155, 128],\n",
              "       [162, 162, 162, ..., 170, 155, 128],\n",
              "       [162, 162, 162, ..., 170, 155, 128],\n",
              "       ...,\n",
              "       [ 43,  43,  50, ..., 104, 100,  98],\n",
              "       [ 44,  44,  55, ..., 104, 105, 108],\n",
              "       [ 44,  44,  55, ..., 104, 105, 108]], dtype=uint8)"
            ]
          },
          "metadata": {},
          "execution_count": 57
        }
      ]
    },
    {
      "cell_type": "code",
      "metadata": {
        "colab": {
          "base_uri": "https://localhost:8080/"
        },
        "id": "CaUK4vsffgcC",
        "outputId": "f68f26c7-087a-42b0-9874-9acaf55137f2"
      },
      "source": [
        "X[128,128]"
      ],
      "execution_count": null,
      "outputs": [
        {
          "output_type": "execute_result",
          "data": {
            "text/plain": [
              "173"
            ]
          },
          "metadata": {},
          "execution_count": 58
        }
      ]
    },
    {
      "cell_type": "code",
      "metadata": {
        "colab": {
          "base_uri": "https://localhost:8080/"
        },
        "id": "BoxmGX3uiLZD",
        "outputId": "4baad504-55cb-42e7-f8b6-4a54526077d2"
      },
      "source": [
        "#performing sscaling only for thee 128th row:\n",
        "a=X[:,128];\n",
        "amean=np.mean(a);astd=np.std(a)\n",
        "ascaled=(a-amean)/(astd)\n",
        "ascaled[128]"
      ],
      "execution_count": null,
      "outputs": [
        {
          "output_type": "execute_result",
          "data": {
            "text/plain": [
              "1.2794041765058435"
            ]
          },
          "metadata": {},
          "execution_count": 59
        }
      ]
    },
    {
      "cell_type": "code",
      "metadata": {
        "id": "Pzr12IbMj4J6"
      },
      "source": [
        "from sklearn.preprocessing import StandardScaler\n",
        "scaler = StandardScaler()\n",
        "X_scaled = scaler.fit_transform(X)"
      ],
      "execution_count": null,
      "outputs": []
    },
    {
      "cell_type": "code",
      "metadata": {
        "colab": {
          "base_uri": "https://localhost:8080/"
        },
        "id": "3lvP6gPakdY2",
        "outputId": "e2b49465-0916-4f7c-d6e3-9e1035346522"
      },
      "source": [
        "X_scaled[128,128]"
      ],
      "execution_count": null,
      "outputs": [
        {
          "output_type": "execute_result",
          "data": {
            "text/plain": [
              "1.2794041765058435"
            ]
          },
          "metadata": {},
          "execution_count": 61
        }
      ]
    },
    {
      "cell_type": "markdown",
      "metadata": {
        "id": "FuAQRh6J9nVj"
      },
      "source": [
        ""
      ]
    },
    {
      "cell_type": "code",
      "metadata": {
        "id": "zd0OzP91nuk_"
      },
      "source": [
        "# calculate the mean of each column\n"
      ],
      "execution_count": null,
      "outputs": []
    },
    {
      "cell_type": "code",
      "metadata": {
        "colab": {
          "base_uri": "https://localhost:8080/"
        },
        "id": "y9jCyW4skf9B",
        "outputId": "0bbcabaa-0cf3-4e74-a5ee-839cf130dc90"
      },
      "source": [
        "n = len(X_scaled)\n",
        "U, S, Vh = np.linalg.svd(X_scaled.T @ X_scaled / n)\n",
        "U[0,0]"
      ],
      "execution_count": null,
      "outputs": [
        {
          "output_type": "execute_result",
          "data": {
            "text/plain": [
              "-0.05842033740661645"
            ]
          },
          "metadata": {},
          "execution_count": 63
        }
      ]
    },
    {
      "cell_type": "code",
      "metadata": {
        "id": "mkahinUenOrm",
        "colab": {
          "base_uri": "https://localhost:8080/"
        },
        "outputId": "6c471bc9-fd08-49b3-ae14-05758daa7fde"
      },
      "source": [
        "#all_errors = []\n",
        "#for k in range(1, len(U) + 1):\n",
        "k=50\n",
        "U_reduced = U[:, :k]\n",
        "Z = X_scaled @ U_reduced\n",
        "X_approx = Z @ U_reduced.T\n",
        "error = (\n",
        "    np.sum(np.square(np.linalg.norm((X_scaled - X_approx), ord=2, axis=1))) \n",
        "    / np.sum(np.square(np.linalg.norm(X_scaled, ord=2, axis=1)))\n",
        ")\n",
        "    #all_errors.append(error)\n",
        "\n",
        "#all_errors\n",
        "error"
      ],
      "execution_count": null,
      "outputs": [
        {
          "output_type": "execute_result",
          "data": {
            "text/plain": [
              "0.046444313764157766"
            ]
          },
          "metadata": {},
          "execution_count": 66
        }
      ]
    },
    {
      "cell_type": "code",
      "metadata": {
        "colab": {
          "base_uri": "https://localhost:8080/"
        },
        "id": "PZuV78aUnR2v",
        "outputId": "d1781a01-7132-4b8f-d882-d90c5f29cc71"
      },
      "source": [
        "k=50\n",
        "U_reduced = U[:, :k]\n",
        "U_reduced.shape\n",
        "X.shape"
      ],
      "execution_count": null,
      "outputs": [
        {
          "output_type": "execute_result",
          "data": {
            "text/plain": [
              "(512, 512)"
            ]
          },
          "metadata": {},
          "execution_count": 65
        }
      ]
    },
    {
      "cell_type": "code",
      "metadata": {
        "id": "kRpUJpopBJXQ"
      },
      "source": [
        ""
      ],
      "execution_count": null,
      "outputs": []
    }
  ]
}