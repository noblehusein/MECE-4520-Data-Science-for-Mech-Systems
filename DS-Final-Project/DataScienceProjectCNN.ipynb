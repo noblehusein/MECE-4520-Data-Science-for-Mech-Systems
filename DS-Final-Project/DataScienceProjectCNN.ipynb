{
  "nbformat": 4,
  "nbformat_minor": 0,
  "metadata": {
    "colab": {
      "name": "DataScienceProjectCNN.ipynb",
      "provenance": [],
      "collapsed_sections": []
    },
    "kernelspec": {
      "name": "python3",
      "display_name": "Python 3"
    },
    "language_info": {
      "name": "python"
    },
    "accelerator": "GPU"
  },
  "cells": [
    {
      "cell_type": "code",
      "metadata": {
        "colab": {
          "base_uri": "https://localhost:8080/"
        },
        "id": "mpUA1zLkGSqh",
        "outputId": "329a4129-935c-4b1a-af9b-c87625e4322e"
      },
      "source": [
        "from google.colab import drive\n",
        "drive.mount('/content/drive')"
      ],
      "execution_count": null,
      "outputs": [
        {
          "output_type": "stream",
          "name": "stdout",
          "text": [
            "Mounted at /content/drive\n"
          ]
        }
      ]
    },
    {
      "cell_type": "code",
      "metadata": {
        "id": "7LBz-sDizsVB"
      },
      "source": [
        "import numpy as np\n",
        "import pandas as pd\n",
        "import matplotlib.pyplot as plt\n",
        "import matplotlib.image as mpimg\n",
        "#from keras.preprocessing.image import ImageDataGenerator\n",
        "from keras.preprocessing import image\n",
        "import keras\n",
        "\n",
        "from keras.models import Sequential\n",
        "from keras.layers import Conv2D, MaxPooling2D, Flatten, Dense, Activation\n",
        "from sklearn.model_selection import train_test_split\n",
        "from sklearn.utils import shuffle\n",
        "from sklearn.metrics import confusion_matrix\n",
        "\n",
        "from keras.callbacks import ReduceLROnPlateau, EarlyStopping\n",
        "from tensorflow.keras.utils import to_categorical"
      ],
      "execution_count": null,
      "outputs": []
    },
    {
      "cell_type": "code",
      "metadata": {
        "colab": {
          "base_uri": "https://localhost:8080/",
          "height": 268
        },
        "id": "zFrVi40Cz4qU",
        "outputId": "45e70f7c-b755-4d39-f795-ae3a19acf5e2"
      },
      "source": [
        "img = mpimg.imread('drive/MyDrive/TrainA/a/2.png')\n",
        "imgplot = plt.imshow(img,cmap='gray')\n",
        "#plt.show()\n",
        "data = pd.read_csv(\"drive/MyDrive/A_Z Handwritten Data.csv\")\n",
        "\n",
        "#https://www.kaggle.com/sachinpatel21/az-handwritten-alphabets-in-csv-format"
      ],
      "execution_count": null,
      "outputs": [
        {
          "output_type": "display_data",
          "data": {
            "image/png": "[encoded data removed]",
            "text/plain": [
              "<Figure size 432x288 with 1 Axes>"
            ]
          },
          "metadata": {
            "needs_background": "light"
          }
        }
      ]
    },
    {
      "cell_type": "code",
      "metadata": {
        "colab": {
          "base_uri": "https://localhost:8080/"
        },
        "id": "4vppaZf860Zv",
        "outputId": "8a4a2cdd-b1ea-477d-d2ae-3a0adc5487ea"
      },
      "source": [
        "Adata=data.loc[data['0'] == 0]\n",
        "otherdata = data[data['0'] != 0]\n",
        "NotAdata=otherdata.sample(n=13869, random_state=1)\n",
        "NotAdata['0'] =   NotAdata['0'].replace([1,2,3,4,5,6,7,8,9,10,11,12,13,14,15,16,17,18,19,20,21,22,23,24,25,26],1)\n",
        "total= [Adata,NotAdata]\n",
        "Final = pd.concat(total)\n",
        "Final.info()\n"
      ],
      "execution_count": null,
      "outputs": [
        {
          "output_type": "stream",
          "name": "stdout",
          "text": [
            "<class 'pandas.core.frame.DataFrame'>\n",
            "Int64Index: 27738 entries, 0 to 225817\n",
            "Columns: 785 entries, 0 to 0.648\n",
            "dtypes: int64(785)\n",
            "memory usage: 166.3 MB\n"
          ]
        }
      ]
    },
    {
      "cell_type": "code",
      "metadata": {
        "id": "xfhP4ax8NlNZ"
      },
      "source": [
        "\n",
        "#data.info()\n",
        "#Adata=data.loc[data['0'] == 0]\n",
        "#Adata.info()\n",
        "\n",
        "X = Final.drop('0',axis = 1) # axis=1 for dropping column\n",
        "y = Final['0']\n",
        "\n",
        "X_train, X_test, Y_train, Y_test = train_test_split(X, y, test_size = 0.4)\n",
        "\n",
        "X_train = np.reshape(X_train.values, (X_train.shape[0], 28,28))\n",
        "X_test = np.reshape(X_test.values, (X_test.shape[0], 28,28))\n",
        "#plt.imshow(X_train[5],cmap='gray')"
      ],
      "execution_count": null,
      "outputs": []
    },
    {
      "cell_type": "code",
      "metadata": {
        "colab": {
          "base_uri": "https://localhost:8080/"
        },
        "id": "9INifwePdZBR",
        "outputId": "c90a6996-4cfc-4c6c-8a72-e47b4a4882fe"
      },
      "source": [
        "X_train = X_train.reshape(X_train.shape[0],X_train.shape[1],X_train.shape[2],1) #RGB =>Channel of 1\n",
        "print(\"New shape of train data: \", X_train.shape)\n",
        "\n",
        "X_test = X_test.reshape(X_test.shape[0], X_test.shape[1], X_test.shape[2],1) #RGB =>Channel of 1\n",
        "print(\"New shape of train data: \", X_test.shape)\n",
        "\n",
        "train_yOHE = to_categorical(Y_train, num_classes = 2, dtype='int')\n",
        "print(\"New shape of train labels: \", train_yOHE.shape)\n",
        "\n",
        "test_yOHE = to_categorical(Y_test, num_classes = 2, dtype='int')\n",
        "\n",
        "print(\"New shape of test labels: \", test_yOHE.shape)"
      ],
      "execution_count": null,
      "outputs": [
        {
          "output_type": "stream",
          "name": "stdout",
          "text": [
            "New shape of train data:  (16642, 28, 28, 1)\n",
            "New shape of train data:  (11096, 28, 28, 1)\n",
            "New shape of train labels:  (16642, 2)\n",
            "New shape of test labels:  (11096, 2)\n"
          ]
        }
      ]
    },
    {
      "cell_type": "code",
      "metadata": {
        "colab": {
          "base_uri": "https://localhost:8080/",
          "height": 88
        },
        "id": "idb_jdeC150O",
        "outputId": "bfa43a43-a05b-4527-a85d-25304f7871d0"
      },
      "source": [
        "'''\n",
        "train_datagen = ImageDataGenerator(rescale = 1./255,\n",
        "                                   shear_range = 0.2,\n",
        "                                   zoom_range = 0.2,\n",
        "                                   horizontal_flip = True)\n",
        "\n",
        "test_datagen = ImageDataGenerator(rescale = 1./255)\n",
        "\n",
        "train_generator = train_datagen.flow_from_directory(\n",
        "    directory = 'drive/MyDrive/TrainA',\n",
        "    target_size = (60,60),\n",
        "    batch_size = 4,\n",
        "    class_mode = 'categorical',\n",
        "    #color_mode=\"rgb\"\n",
        "\n",
        ")\n",
        "\n",
        "test_generator = test_datagen.flow_from_directory(\n",
        "    directory = 'drive/MyDrive/TestA',\n",
        "    target_size = (60,60),\n",
        "    batch_size = 4,\n",
        "    class_mode = 'categorical',\n",
        "    #color_mode=\"rgb\"\n",
        "\n",
        ")\n",
        "'''"
      ],
      "execution_count": null,
      "outputs": [
        {
          "output_type": "execute_result",
          "data": {
            "application/vnd.google.colaboratory.intrinsic+json": {
              "type": "string"
            },
            "text/plain": [
              "'\\ntrain_datagen = ImageDataGenerator(rescale = 1./255,\\n                                   shear_range = 0.2,\\n                                   zoom_range = 0.2,\\n                                   horizontal_flip = True)\\n\\ntest_datagen = ImageDataGenerator(rescale = 1./255)\\n\\ntrain_generator = train_datagen.flow_from_directory(\\n    directory = \\'drive/MyDrive/TrainA\\',\\n    target_size = (60,60),\\n    batch_size = 4,\\n    class_mode = \\'categorical\\',\\n    #color_mode=\"rgb\"\\n\\n)\\n\\ntest_generator = test_datagen.flow_from_directory(\\n    directory = \\'drive/MyDrive/TestA\\',\\n    target_size = (60,60),\\n    batch_size = 4,\\n    class_mode = \\'categorical\\',\\n    #color_mode=\"rgb\"\\n\\n)\\n'"
            ]
          },
          "metadata": {},
          "execution_count": 7
        }
      ]
    },
    {
      "cell_type": "code",
      "metadata": {
        "colab": {
          "base_uri": "https://localhost:8080/"
        },
        "id": "kDrUFsHs6vI8",
        "outputId": "3164b4e9-8c49-4d04-8107-4db1716709fd"
      },
      "source": [
        "model = Sequential()\n",
        "model.add(Conv2D(32, (3, 3),padding='same', input_shape = (28,28,1), activation = 'relu'))\n",
        "model.add(MaxPooling2D(pool_size = (2, 2)))\n",
        "#model.add(Dropout(0.2))\n",
        "\n",
        "model.add(Conv2D(32, (3, 3), padding='same',activation = 'relu'))\n",
        "model.add(MaxPooling2D(pool_size = (2, 2)))\n",
        "\n",
        "model.add(Flatten())\n",
        "model.add(Dense(units = 64, activation = 'relu'))\n",
        "\n",
        "model.add(Dense(units = 2, activation = 'softmax'))\n",
        "\n",
        "\n",
        "model.compile(optimizer = 'adam', loss = 'categorical_crossentropy', metrics = ['accuracy'])\n",
        "\n",
        "model.summary()"
      ],
      "execution_count": null,
      "outputs": [
        {
          "output_type": "stream",
          "name": "stdout",
          "text": [
            "Model: \"sequential\"\n",
            "_________________________________________________________________\n",
            " Layer (type)                Output Shape              Param #   \n",
            "=================================================================\n",
            " conv2d (Conv2D)             (None, 28, 28, 32)        320       \n",
            "                                                                 \n",
            " max_pooling2d (MaxPooling2D  (None, 14, 14, 32)       0         \n",
            " )                                                               \n",
            "                                                                 \n",
            " conv2d_1 (Conv2D)           (None, 14, 14, 32)        9248      \n",
            "                                                                 \n",
            " max_pooling2d_1 (MaxPooling  (None, 7, 7, 32)         0         \n",
            " 2D)                                                             \n",
            "                                                                 \n",
            " flatten (Flatten)           (None, 1568)              0         \n",
            "                                                                 \n",
            " dense (Dense)               (None, 64)                100416    \n",
            "                                                                 \n",
            " dense_1 (Dense)             (None, 2)                 130       \n",
            "                                                                 \n",
            "=================================================================\n",
            "Total params: 110,114\n",
            "Trainable params: 110,114\n",
            "Non-trainable params: 0\n",
            "_________________________________________________________________\n"
          ]
        }
      ]
    },
    {
      "cell_type": "code",
      "metadata": {
        "colab": {
          "base_uri": "https://localhost:8080/"
        },
        "id": "NQLEE6GOUhmU",
        "outputId": "229fb4f3-0c17-42b8-de23-db79fd4aeb65"
      },
      "source": [
        "history = model.fit(X_train, train_yOHE, epochs=8,  validation_data = (X_test,test_yOHE))"
      ],
      "execution_count": null,
      "outputs": [
        {
          "output_type": "stream",
          "name": "stdout",
          "text": [
            "Epoch 1/8\n",
            "521/521 [==============================] - 14s 9ms/step - loss: 0.1850 - accuracy: 0.9644 - val_loss: 0.0384 - val_accuracy: 0.9881\n",
            "Epoch 2/8\n",
            "521/521 [==============================] - 4s 8ms/step - loss: 0.0390 - accuracy: 0.9863 - val_loss: 0.0401 - val_accuracy: 0.9885\n",
            "Epoch 3/8\n",
            "521/521 [==============================] - 4s 8ms/step - loss: 0.0283 - accuracy: 0.9908 - val_loss: 0.0301 - val_accuracy: 0.9903\n",
            "Epoch 4/8\n",
            "521/521 [==============================] - 4s 8ms/step - loss: 0.0165 - accuracy: 0.9947 - val_loss: 0.0778 - val_accuracy: 0.9741\n",
            "Epoch 5/8\n",
            "521/521 [==============================] - 4s 8ms/step - loss: 0.0146 - accuracy: 0.9952 - val_loss: 0.0290 - val_accuracy: 0.9927\n",
            "Epoch 6/8\n",
            "521/521 [==============================] - 4s 8ms/step - loss: 0.0126 - accuracy: 0.9954 - val_loss: 0.0345 - val_accuracy: 0.9908\n",
            "Epoch 7/8\n",
            "521/521 [==============================] - 4s 8ms/step - loss: 0.0121 - accuracy: 0.9958 - val_loss: 0.0302 - val_accuracy: 0.9935\n",
            "Epoch 8/8\n",
            "521/521 [==============================] - 4s 8ms/step - loss: 0.0060 - accuracy: 0.9977 - val_loss: 0.0336 - val_accuracy: 0.9929\n"
          ]
        }
      ]
    },
    {
      "cell_type": "code",
      "metadata": {
        "id": "4pLXJ4_jG0z_"
      },
      "source": [
        ""
      ],
      "execution_count": null,
      "outputs": []
    },
    {
      "cell_type": "code",
      "metadata": {
        "colab": {
          "base_uri": "https://localhost:8080/",
          "height": 317
        },
        "id": "Uq9EBQFYmmEf",
        "outputId": "d3003ba5-0561-4143-d1ba-d7bb51838398"
      },
      "source": [
        "a=model.predict(x=X_test[500:510])\n",
        "result = get_result(a[7])\n",
        "plt.imshow(X_test[507][:,:,0],cmap='gray')\n",
        "\n",
        "print('\\n')\n",
        "print(result)\n"
      ],
      "execution_count": null,
      "outputs": [
        {
          "output_type": "stream",
          "name": "stdout",
          "text": [
            "\n",
            "\n",
            "The Prediction of the Image is: NOT A\n"
          ]
        },
        {
          "output_type": "display_data",
          "data": {
            "image/png": "[encoded data removed]",
            "text/plain": [
              "<Figure size 432x288 with 1 Axes>"
            ]
          },
          "metadata": {
            "needs_background": "light"
          }
        }
      ]
    },
    {
      "cell_type": "code",
      "metadata": {
        "id": "lDkAUtVmJzlt"
      },
      "source": [
        "def get_result(result):\n",
        "    if round(result[0]) == 1:\n",
        "        return('The Prediction of the Image is: the letter A')\n",
        "    else:\n",
        "        return ('The Prediction of the Image is: NOT A')"
      ],
      "execution_count": null,
      "outputs": []
    },
    {
      "cell_type": "code",
      "metadata": {
        "id": "HWZRS5Di9t8P",
        "colab": {
          "base_uri": "https://localhost:8080/",
          "height": 382
        },
        "outputId": "731d7d68-8309-4bbf-b001-8852e0c260e3"
      },
      "source": [
        "!wget -nc https://raw.githubusercontent.com/brpy/colab-pdf/master/colab_pdf.py\n",
        "#from colab_pdf import colab_pdf\n",
        "colab_pdf('DataScienceProjectCNN.ipynb')"
      ],
      "execution_count": null,
      "outputs": [
        {
          "output_type": "stream",
          "name": "stdout",
          "text": [
            "File ‘colab_pdf.py’ already there; not retrieving.\n",
            "\n",
            "\n",
            "WARNING: apt does not have a stable CLI interface. Use with caution in scripts.\n",
            "\n",
            "\n",
            "WARNING: apt does not have a stable CLI interface. Use with caution in scripts.\n",
            "\n",
            "[NbConvertApp] Converting notebook /content/drive/MyDrive/Colab Notebooks/DataScienceProjectCNN.ipynb to pdf\n",
            "[NbConvertApp] Support files will be in DataScienceProjectCNN_files/\n",
            "[NbConvertApp] Making directory ./DataScienceProjectCNN_files\n",
            "[NbConvertApp] Making directory ./DataScienceProjectCNN_files\n",
            "[NbConvertApp] Writing 41998 bytes to ./notebook.tex\n",
            "[NbConvertApp] Building PDF\n",
            "[NbConvertApp] Running xelatex 3 times: [u'xelatex', u'./notebook.tex', '-quiet']\n",
            "[NbConvertApp] Running bibtex 1 time: [u'bibtex', u'./notebook']\n",
            "[NbConvertApp] WARNING | bibtex had problems, most likely because there were no citations\n",
            "[NbConvertApp] PDF successfully created\n",
            "[NbConvertApp] Writing 46018 bytes to /content/drive/My Drive/DataScienceProjectCNN.pdf\n"
          ]
        },
        {
          "output_type": "display_data",
          "data": {
            "application/javascript": [
              "\n",
              "    async function download(id, filename, size) {\n",
              "      if (!google.colab.kernel.accessAllowed) {\n",
              "        return;\n",
              "      }\n",
              "      const div = document.createElement('div');\n",
              "      const label = document.createElement('label');\n",
              "      label.textContent = `Downloading \"${filename}\": `;\n",
              "      div.appendChild(label);\n",
              "      const progress = document.createElement('progress');\n",
              "      progress.max = size;\n",
              "      div.appendChild(progress);\n",
              "      document.body.appendChild(div);\n",
              "\n",
              "      const buffers = [];\n",
              "      let downloaded = 0;\n",
              "\n",
              "      const channel = await google.colab.kernel.comms.open(id);\n",
              "      // Send a message to notify the kernel that we're ready.\n",
              "      channel.send({})\n",
              "\n",
              "      for await (const message of channel.messages) {\n",
              "        // Send a message to notify the kernel that we're ready.\n",
              "        channel.send({})\n",
              "        if (message.buffers) {\n",
              "          for (const buffer of message.buffers) {\n",
              "            buffers.push(buffer);\n",
              "            downloaded += buffer.byteLength;\n",
              "            progress.value = downloaded;\n",
              "          }\n",
              "        }\n",
              "      }\n",
              "      const blob = new Blob(buffers, {type: 'application/binary'});\n",
              "      const a = document.createElement('a');\n",
              "      a.href = window.URL.createObjectURL(blob);\n",
              "      a.download = filename;\n",
              "      div.appendChild(a);\n",
              "      a.click();\n",
              "      div.remove();\n",
              "    }\n",
              "  "
            ],
            "text/plain": [
              "<IPython.core.display.Javascript object>"
            ]
          },
          "metadata": {}
        },
        {
          "output_type": "display_data",
          "data": {
            "application/javascript": [
              "download(\"download_383588e2-2abe-40ce-a84f-3d6179525941\", \"DataScienceProjectCNN.pdf\", 46018)"
            ],
            "text/plain": [
              "<IPython.core.display.Javascript object>"
            ]
          },
          "metadata": {}
        },
        {
          "output_type": "execute_result",
          "data": {
            "application/vnd.google.colaboratory.intrinsic+json": {
              "type": "string"
            },
            "text/plain": [
              "'File ready to be Downloaded and Saved to Drive'"
            ]
          },
          "metadata": {},
          "execution_count": 17
        }
      ]
    },
    {
      "cell_type": "code",
      "metadata": {
        "id": "v7hEWrZR-SMW"
      },
      "source": [
        "\n"
      ],
      "execution_count": null,
      "outputs": []
    },
    {
      "cell_type": "code",
      "metadata": {
        "id": "moOmfu2YCEbE"
      },
      "source": [
        ""
      ],
      "execution_count": null,
      "outputs": []
    },
    {
      "cell_type": "code",
      "metadata": {
        "id": "jBEKlX2CCI8H"
      },
      "source": [
        ""
      ],
      "execution_count": null,
      "outputs": []
    }
  ]
}