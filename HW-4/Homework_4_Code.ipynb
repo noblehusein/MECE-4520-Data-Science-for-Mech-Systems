{
  "nbformat": 4,
  "nbformat_minor": 0,
  "metadata": {
    "colab": {
      "name": "Homework-4 Code.ipynb",
      "provenance": []
    },
    "kernelspec": {
      "name": "python3",
      "display_name": "Python 3"
    },
    "language_info": {
      "name": "python"
    }
  },
  "cells": [
    {
      "cell_type": "markdown",
      "metadata": {
        "id": "YYSe4mqsmrRv"
      },
      "source": [
        "### **PROBLEM-1: DECISION TREES**"
      ]
    },
    {
      "cell_type": "code",
      "metadata": {
        "id": "pWDsQp0XmUrx"
      },
      "source": [
        "%matplotlib notebook\n",
        "import matplotlib.pyplot as plt\n",
        "import numpy as np\n",
        "import pandas as pd\n",
        "import seaborn as sns\n",
        "\n",
        "sns.set(font_scale=1.5)\n",
        "sns.set_style(\"whitegrid\", {'grid.linestyle':'--'})"
      ],
      "execution_count": null,
      "outputs": []
    },
    {
      "cell_type": "code",
      "metadata": {
        "colab": {
          "base_uri": "https://localhost:8080/",
          "height": 221
        },
        "id": "JaybRj1NmW_l",
        "outputId": "7447dbf6-e28e-42d7-efea-ffbf50659719"
      },
      "source": [
        "cancer = pd.read_csv(\"https://raw.githubusercontent.com/changyaochen/MECE4520/master/lectures/lecture_4/breast_cancer_data.csv\")\n",
        "cancer[\"label\"] = cancer[\"diagnosis\"].apply(lambda x: 0 if x == \"B\" else 1)\n",
        "cancer.head()"
      ],
      "execution_count": null,
      "outputs": [
        {
          "output_type": "execute_result",
          "data": {
            "text/html": [
              "<div>\n",
              "<style scoped>\n",
              "    .dataframe tbody tr th:only-of-type {\n",
              "        vertical-align: middle;\n",
              "    }\n",
              "\n",
              "    .dataframe tbody tr th {\n",
              "        vertical-align: top;\n",
              "    }\n",
              "\n",
              "    .dataframe thead th {\n",
              "        text-align: right;\n",
              "    }\n",
              "</style>\n",
              "<table border=\"1\" class=\"dataframe\">\n",
              "  <thead>\n",
              "    <tr style=\"text-align: right;\">\n",
              "      <th></th>\n",
              "      <th>id</th>\n",
              "      <th>diagnosis</th>\n",
              "      <th>radius_mean</th>\n",
              "      <th>texture_mean</th>\n",
              "      <th>perimeter_mean</th>\n",
              "      <th>area_mean</th>\n",
              "      <th>smoothness_mean</th>\n",
              "      <th>compactness_mean</th>\n",
              "      <th>concavity_mean</th>\n",
              "      <th>concave_mean</th>\n",
              "      <th>symmetry_mean</th>\n",
              "      <th>fractal_mean</th>\n",
              "      <th>radius_se</th>\n",
              "      <th>texture_se</th>\n",
              "      <th>perimeter_se</th>\n",
              "      <th>area_se</th>\n",
              "      <th>smoothness_se</th>\n",
              "      <th>compactness_se</th>\n",
              "      <th>concavity_se</th>\n",
              "      <th>concave_se</th>\n",
              "      <th>symmetry_se</th>\n",
              "      <th>fractal_se</th>\n",
              "      <th>radius_extreme</th>\n",
              "      <th>texture_extreme</th>\n",
              "      <th>perimeter_extreme</th>\n",
              "      <th>area_extreme</th>\n",
              "      <th>smoothness_extreme</th>\n",
              "      <th>compactness_extreme</th>\n",
              "      <th>concavity_extreme</th>\n",
              "      <th>concave_extreme</th>\n",
              "      <th>symmetry_extreme</th>\n",
              "      <th>fractal_extreme</th>\n",
              "      <th>label</th>\n",
              "    </tr>\n",
              "  </thead>\n",
              "  <tbody>\n",
              "    <tr>\n",
              "      <th>0</th>\n",
              "      <td>842302</td>\n",
              "      <td>M</td>\n",
              "      <td>17.99</td>\n",
              "      <td>10.38</td>\n",
              "      <td>122.80</td>\n",
              "      <td>1001.0</td>\n",
              "      <td>0.11840</td>\n",
              "      <td>0.27760</td>\n",
              "      <td>0.3001</td>\n",
              "      <td>0.14710</td>\n",
              "      <td>0.2419</td>\n",
              "      <td>0.07871</td>\n",
              "      <td>1.0950</td>\n",
              "      <td>0.9053</td>\n",
              "      <td>8.589</td>\n",
              "      <td>153.40</td>\n",
              "      <td>0.006399</td>\n",
              "      <td>0.04904</td>\n",
              "      <td>0.05373</td>\n",
              "      <td>0.01587</td>\n",
              "      <td>0.03003</td>\n",
              "      <td>0.006193</td>\n",
              "      <td>25.38</td>\n",
              "      <td>17.33</td>\n",
              "      <td>184.60</td>\n",
              "      <td>2019.0</td>\n",
              "      <td>0.1622</td>\n",
              "      <td>0.6656</td>\n",
              "      <td>0.7119</td>\n",
              "      <td>0.2654</td>\n",
              "      <td>0.4601</td>\n",
              "      <td>0.11890</td>\n",
              "      <td>1</td>\n",
              "    </tr>\n",
              "    <tr>\n",
              "      <th>1</th>\n",
              "      <td>842517</td>\n",
              "      <td>M</td>\n",
              "      <td>20.57</td>\n",
              "      <td>17.77</td>\n",
              "      <td>132.90</td>\n",
              "      <td>1326.0</td>\n",
              "      <td>0.08474</td>\n",
              "      <td>0.07864</td>\n",
              "      <td>0.0869</td>\n",
              "      <td>0.07017</td>\n",
              "      <td>0.1812</td>\n",
              "      <td>0.05667</td>\n",
              "      <td>0.5435</td>\n",
              "      <td>0.7339</td>\n",
              "      <td>3.398</td>\n",
              "      <td>74.08</td>\n",
              "      <td>0.005225</td>\n",
              "      <td>0.01308</td>\n",
              "      <td>0.01860</td>\n",
              "      <td>0.01340</td>\n",
              "      <td>0.01389</td>\n",
              "      <td>0.003532</td>\n",
              "      <td>24.99</td>\n",
              "      <td>23.41</td>\n",
              "      <td>158.80</td>\n",
              "      <td>1956.0</td>\n",
              "      <td>0.1238</td>\n",
              "      <td>0.1866</td>\n",
              "      <td>0.2416</td>\n",
              "      <td>0.1860</td>\n",
              "      <td>0.2750</td>\n",
              "      <td>0.08902</td>\n",
              "      <td>1</td>\n",
              "    </tr>\n",
              "    <tr>\n",
              "      <th>2</th>\n",
              "      <td>84300903</td>\n",
              "      <td>M</td>\n",
              "      <td>19.69</td>\n",
              "      <td>21.25</td>\n",
              "      <td>130.00</td>\n",
              "      <td>1203.0</td>\n",
              "      <td>0.10960</td>\n",
              "      <td>0.15990</td>\n",
              "      <td>0.1974</td>\n",
              "      <td>0.12790</td>\n",
              "      <td>0.2069</td>\n",
              "      <td>0.05999</td>\n",
              "      <td>0.7456</td>\n",
              "      <td>0.7869</td>\n",
              "      <td>4.585</td>\n",
              "      <td>94.03</td>\n",
              "      <td>0.006150</td>\n",
              "      <td>0.04006</td>\n",
              "      <td>0.03832</td>\n",
              "      <td>0.02058</td>\n",
              "      <td>0.02250</td>\n",
              "      <td>0.004571</td>\n",
              "      <td>23.57</td>\n",
              "      <td>25.53</td>\n",
              "      <td>152.50</td>\n",
              "      <td>1709.0</td>\n",
              "      <td>0.1444</td>\n",
              "      <td>0.4245</td>\n",
              "      <td>0.4504</td>\n",
              "      <td>0.2430</td>\n",
              "      <td>0.3613</td>\n",
              "      <td>0.08758</td>\n",
              "      <td>1</td>\n",
              "    </tr>\n",
              "    <tr>\n",
              "      <th>3</th>\n",
              "      <td>84348301</td>\n",
              "      <td>M</td>\n",
              "      <td>11.42</td>\n",
              "      <td>20.38</td>\n",
              "      <td>77.58</td>\n",
              "      <td>386.1</td>\n",
              "      <td>0.14250</td>\n",
              "      <td>0.28390</td>\n",
              "      <td>0.2414</td>\n",
              "      <td>0.10520</td>\n",
              "      <td>0.2597</td>\n",
              "      <td>0.09744</td>\n",
              "      <td>0.4956</td>\n",
              "      <td>1.1560</td>\n",
              "      <td>3.445</td>\n",
              "      <td>27.23</td>\n",
              "      <td>0.009110</td>\n",
              "      <td>0.07458</td>\n",
              "      <td>0.05661</td>\n",
              "      <td>0.01867</td>\n",
              "      <td>0.05963</td>\n",
              "      <td>0.009208</td>\n",
              "      <td>14.91</td>\n",
              "      <td>26.50</td>\n",
              "      <td>98.87</td>\n",
              "      <td>567.7</td>\n",
              "      <td>0.2098</td>\n",
              "      <td>0.8663</td>\n",
              "      <td>0.6869</td>\n",
              "      <td>0.2575</td>\n",
              "      <td>0.6638</td>\n",
              "      <td>0.17300</td>\n",
              "      <td>1</td>\n",
              "    </tr>\n",
              "    <tr>\n",
              "      <th>4</th>\n",
              "      <td>84358402</td>\n",
              "      <td>M</td>\n",
              "      <td>20.29</td>\n",
              "      <td>14.34</td>\n",
              "      <td>135.10</td>\n",
              "      <td>1297.0</td>\n",
              "      <td>0.10030</td>\n",
              "      <td>0.13280</td>\n",
              "      <td>0.1980</td>\n",
              "      <td>0.10430</td>\n",
              "      <td>0.1809</td>\n",
              "      <td>0.05883</td>\n",
              "      <td>0.7572</td>\n",
              "      <td>0.7813</td>\n",
              "      <td>5.438</td>\n",
              "      <td>94.44</td>\n",
              "      <td>0.011490</td>\n",
              "      <td>0.02461</td>\n",
              "      <td>0.05688</td>\n",
              "      <td>0.01885</td>\n",
              "      <td>0.01756</td>\n",
              "      <td>0.005115</td>\n",
              "      <td>22.54</td>\n",
              "      <td>16.67</td>\n",
              "      <td>152.20</td>\n",
              "      <td>1575.0</td>\n",
              "      <td>0.1374</td>\n",
              "      <td>0.2050</td>\n",
              "      <td>0.4000</td>\n",
              "      <td>0.1625</td>\n",
              "      <td>0.2364</td>\n",
              "      <td>0.07678</td>\n",
              "      <td>1</td>\n",
              "    </tr>\n",
              "  </tbody>\n",
              "</table>\n",
              "</div>"
            ],
            "text/plain": [
              "         id diagnosis  radius_mean  ...  symmetry_extreme  fractal_extreme  label\n",
              "0    842302         M        17.99  ...            0.4601          0.11890      1\n",
              "1    842517         M        20.57  ...            0.2750          0.08902      1\n",
              "2  84300903         M        19.69  ...            0.3613          0.08758      1\n",
              "3  84348301         M        11.42  ...            0.6638          0.17300      1\n",
              "4  84358402         M        20.29  ...            0.2364          0.07678      1\n",
              "\n",
              "[5 rows x 33 columns]"
            ]
          },
          "metadata": {},
          "execution_count": 4
        }
      ]
    },
    {
      "cell_type": "code",
      "metadata": {
        "colab": {
          "base_uri": "https://localhost:8080/"
        },
        "id": "X0EbusM0mZpo",
        "outputId": "cc6bc851-3a39-4ad4-ec04-1e9c46d09703"
      },
      "source": [
        "column = cancer[\"texture_mean\"]\n",
        "max_value = column.max()\n",
        "min_value = column.min()\n",
        "print(max_value, min_value)"
      ],
      "execution_count": null,
      "outputs": [
        {
          "output_type": "stream",
          "name": "stdout",
          "text": [
            "39.28 9.71\n"
          ]
        }
      ]
    },
    {
      "cell_type": "code",
      "metadata": {
        "colab": {
          "base_uri": "https://localhost:8080/"
        },
        "id": "DFADjNX_mca5",
        "outputId": "680e1b9a-13e2-4621-c413-0d1f3188116c"
      },
      "source": [
        "from sklearn import tree\n",
        "\n",
        "dt_model = tree.DecisionTreeClassifier(\n",
        "    criterion=\"gini\",\n",
        "    max_depth=3,\n",
        ")\n",
        "\n",
        "features=[\"texture_mean\"]\n",
        "label = \"label\"\n",
        "dt_model.fit(X=cancer[features], y=cancer[label])"
      ],
      "execution_count": null,
      "outputs": [
        {
          "output_type": "execute_result",
          "data": {
            "text/plain": [
              "DecisionTreeClassifier(max_depth=3)"
            ]
          },
          "metadata": {},
          "execution_count": 13
        }
      ]
    },
    {
      "cell_type": "code",
      "source": [
        "dt_model2 = tree.DecisionTreeClassifier(\n",
        "    criterion=\"entropy\",\n",
        "    max_depth=3,\n",
        ")\n",
        "\n",
        "features=[\"texture_mean\"]\n",
        "label = \"label\"\n",
        "dt_model2.fit(X=cancer[features], y=cancer[label])"
      ],
      "metadata": {
        "colab": {
          "base_uri": "https://localhost:8080/"
        },
        "id": "Ja85Ys5GA3gs",
        "outputId": "adefc962-5188-4d04-cca4-2cabf36ea886"
      },
      "execution_count": null,
      "outputs": [
        {
          "output_type": "execute_result",
          "data": {
            "text/plain": [
              "DecisionTreeClassifier(criterion='entropy', max_depth=3)"
            ]
          },
          "metadata": {},
          "execution_count": 7
        }
      ]
    },
    {
      "cell_type": "code",
      "source": [
        "from sklearn import tree\n",
        "\n",
        "dt_model3 = tree.DecisionTreeClassifier(\n",
        "    criterion=\"gini\",\n",
        "    max_depth=3,\n",
        ")\n",
        "features = [\n",
        "    \"radius_mean\",\n",
        "    \"texture_mean\",\n",
        "    \"perimeter_mean\",\n",
        "    \"area_mean\",\n",
        "    \"smoothness_mean\",\n",
        "    \"compactness_mean\",\n",
        "    \"concavity_mean\",\n",
        "    \"concave_mean\",\n",
        "    \"symmetry_mean\",\n",
        "    \"fractal_mean\",\n",
        "    \"radius_se\",\n",
        "    \"texture_se\",\n",
        "    \"perimeter_se\",\n",
        "    \"area_se\",\n",
        "    \"smoothness_se\",\n",
        "    \"compactness_se\",\n",
        "    \"concavity_se\",\n",
        "    \"concave_se\",\n",
        "    \"symmetry_se\",\n",
        "    \"fractal_se\",\n",
        "    \"radius_extreme\",\n",
        "    \"texture_extreme\",\n",
        "    \"perimeter_extreme\",\n",
        "    \"area_extreme\",\n",
        "    \"smoothness_extreme\",\n",
        "    \"compactness_extreme\",\n",
        "    \"concavity_extreme\",\n",
        "    \"concave_extreme\",\n",
        "    \"symmetry_extreme\",\n",
        "    \"fractal_extreme\",\n",
        "]\n",
        "label = \"label\"\n",
        "dt_model3.fit(X=cancer[features], y=cancer[label])"
      ],
      "metadata": {
        "colab": {
          "base_uri": "https://localhost:8080/"
        },
        "id": "uhKCnvzoA-82",
        "outputId": "90c316ae-186a-4218-860c-bf2520a8c0d3"
      },
      "execution_count": null,
      "outputs": [
        {
          "output_type": "execute_result",
          "data": {
            "text/plain": [
              "DecisionTreeClassifier(max_depth=3)"
            ]
          },
          "metadata": {},
          "execution_count": 8
        }
      ]
    },
    {
      "cell_type": "code",
      "metadata": {
        "colab": {
          "base_uri": "https://localhost:8080/",
          "height": 554
        },
        "id": "NvGrMSixmgtG",
        "outputId": "be992cf1-d142-40e2-b5b3-79b1b05af2e6"
      },
      "source": [
        "import graphviz\n",
        "\n",
        "dot_data = tree.export_graphviz(\n",
        "    decision_tree=dt_model, \n",
        "    out_file=None, \n",
        "    feature_names=features,  \n",
        "    class_names=[\"0\", \"1\"],  \n",
        "    filled=True, \n",
        "    rounded=True,  \n",
        "    special_characters=True,\n",
        "    max_depth=2,\n",
        ")  \n",
        "graph = graphviz.Source(dot_data)  \n",
        "graph.render(\"cancer_tree\")\n",
        "graph"
      ],
      "execution_count": null,
      "outputs": [
        {
          "output_type": "execute_result",
          "data": {
            "text/plain": [
              "<graphviz.files.Source at 0x7f294e799210>"
            ],
            "image/svg+xml": "<?xml version=\"1.0\" encoding=\"UTF-8\" standalone=\"no\"?>\n<!DOCTYPE svg PUBLIC \"-//W3C//DTD SVG 1.1//EN\"\n \"http://www.w3.org/Graphics/SVG/1.1/DTD/svg11.dtd\">\n<!-- Generated by graphviz version 2.40.1 (20161225.0304)\n -->\n<!-- Title: Tree Pages: 1 -->\n<svg width=\"702pt\" height=\"401pt\"\n viewBox=\"0.00 0.00 702.00 401.00\" xmlns=\"http://www.w3.org/2000/svg\" xmlns:xlink=\"http://www.w3.org/1999/xlink\">\n<g id=\"graph0\" class=\"graph\" transform=\"scale(1 1) rotate(0) translate(4 397)\">\n<title>Tree</title>\n<polygon fill=\"#ffffff\" stroke=\"transparent\" points=\"-4,4 -4,-397 698,-397 698,4 -4,4\"/>\n<!-- 0 -->\n<g id=\"node1\" class=\"node\">\n<title>0</title>\n<path fill=\"#f4ccaf\" stroke=\"#000000\" d=\"M412,-393C412,-393 278,-393 278,-393 272,-393 266,-387 266,-381 266,-381 266,-322 266,-322 266,-316 272,-310 278,-310 278,-310 412,-310 412,-310 418,-310 424,-316 424,-322 424,-322 424,-381 424,-381 424,-387 418,-393 412,-393\"/>\n<text text-anchor=\"start\" x=\"274\" y=\"-377.8\" font-family=\"Helvetica,sans-Serif\" font-size=\"14.00\" fill=\"#000000\">texture_mean ≤ 19.47</text>\n<text text-anchor=\"start\" x=\"307\" y=\"-362.8\" font-family=\"Helvetica,sans-Serif\" font-size=\"14.00\" fill=\"#000000\">gini = 0.468</text>\n<text text-anchor=\"start\" x=\"297\" y=\"-347.8\" font-family=\"Helvetica,sans-Serif\" font-size=\"14.00\" fill=\"#000000\">samples = 569</text>\n<text text-anchor=\"start\" x=\"287\" y=\"-332.8\" font-family=\"Helvetica,sans-Serif\" font-size=\"14.00\" fill=\"#000000\">value = [357, 212]</text>\n<text text-anchor=\"start\" x=\"316\" y=\"-317.8\" font-family=\"Helvetica,sans-Serif\" font-size=\"14.00\" fill=\"#000000\">class = 0</text>\n</g>\n<!-- 1 -->\n<g id=\"node2\" class=\"node\">\n<title>1</title>\n<path fill=\"#ea9c63\" stroke=\"#000000\" d=\"M326,-274C326,-274 184,-274 184,-274 178,-274 172,-268 172,-262 172,-262 172,-203 172,-203 172,-197 178,-191 184,-191 184,-191 326,-191 326,-191 332,-191 338,-197 338,-203 338,-203 338,-262 338,-262 338,-268 332,-274 326,-274\"/>\n<text text-anchor=\"start\" x=\"180\" y=\"-258.8\" font-family=\"Helvetica,sans-Serif\" font-size=\"14.00\" fill=\"#000000\">texture_mean ≤ 16.395</text>\n<text text-anchor=\"start\" x=\"217\" y=\"-243.8\" font-family=\"Helvetica,sans-Serif\" font-size=\"14.00\" fill=\"#000000\">gini = 0.288</text>\n<text text-anchor=\"start\" x=\"207\" y=\"-228.8\" font-family=\"Helvetica,sans-Serif\" font-size=\"14.00\" fill=\"#000000\">samples = 316</text>\n<text text-anchor=\"start\" x=\"201\" y=\"-213.8\" font-family=\"Helvetica,sans-Serif\" font-size=\"14.00\" fill=\"#000000\">value = [261, 55]</text>\n<text text-anchor=\"start\" x=\"226\" y=\"-198.8\" font-family=\"Helvetica,sans-Serif\" font-size=\"14.00\" fill=\"#000000\">class = 0</text>\n</g>\n<!-- 0&#45;&gt;1 -->\n<g id=\"edge1\" class=\"edge\">\n<title>0&#45;&gt;1</title>\n<path fill=\"none\" stroke=\"#000000\" d=\"M313.5224,-309.8796C306.8471,-301.0534 299.7342,-291.6485 292.8504,-282.5466\"/>\n<polygon fill=\"#000000\" stroke=\"#000000\" points=\"295.4357,-280.1626 286.612,-274.2981 289.8526,-284.3852 295.4357,-280.1626\"/>\n<text text-anchor=\"middle\" x=\"283.176\" y=\"-295.3608\" font-family=\"Helvetica,sans-Serif\" font-size=\"14.00\" fill=\"#000000\">True</text>\n</g>\n<!-- 8 -->\n<g id=\"node9\" class=\"node\">\n<title>8</title>\n<path fill=\"#b2d9f5\" stroke=\"#000000\" d=\"M502,-274C502,-274 368,-274 368,-274 362,-274 356,-268 356,-262 356,-262 356,-203 356,-203 356,-197 362,-191 368,-191 368,-191 502,-191 502,-191 508,-191 514,-197 514,-203 514,-203 514,-262 514,-262 514,-268 508,-274 502,-274\"/>\n<text text-anchor=\"start\" x=\"364\" y=\"-258.8\" font-family=\"Helvetica,sans-Serif\" font-size=\"14.00\" fill=\"#000000\">texture_mean ≤ 26.98</text>\n<text text-anchor=\"start\" x=\"397\" y=\"-243.8\" font-family=\"Helvetica,sans-Serif\" font-size=\"14.00\" fill=\"#000000\">gini = 0.471</text>\n<text text-anchor=\"start\" x=\"387\" y=\"-228.8\" font-family=\"Helvetica,sans-Serif\" font-size=\"14.00\" fill=\"#000000\">samples = 253</text>\n<text text-anchor=\"start\" x=\"381\" y=\"-213.8\" font-family=\"Helvetica,sans-Serif\" font-size=\"14.00\" fill=\"#000000\">value = [96, 157]</text>\n<text text-anchor=\"start\" x=\"406\" y=\"-198.8\" font-family=\"Helvetica,sans-Serif\" font-size=\"14.00\" fill=\"#000000\">class = 1</text>\n</g>\n<!-- 0&#45;&gt;8 -->\n<g id=\"edge8\" class=\"edge\">\n<title>0&#45;&gt;8</title>\n<path fill=\"none\" stroke=\"#000000\" d=\"M376.4776,-309.8796C383.1529,-301.0534 390.2658,-291.6485 397.1496,-282.5466\"/>\n<polygon fill=\"#000000\" stroke=\"#000000\" points=\"400.1474,-284.3852 403.388,-274.2981 394.5643,-280.1626 400.1474,-284.3852\"/>\n<text text-anchor=\"middle\" x=\"406.824\" y=\"-295.3608\" font-family=\"Helvetica,sans-Serif\" font-size=\"14.00\" fill=\"#000000\">False</text>\n</g>\n<!-- 2 -->\n<g id=\"node3\" class=\"node\">\n<title>2</title>\n<path fill=\"#e78c4a\" stroke=\"#000000\" d=\"M146,-155C146,-155 12,-155 12,-155 6,-155 0,-149 0,-143 0,-143 0,-84 0,-84 0,-78 6,-72 12,-72 12,-72 146,-72 146,-72 152,-72 158,-78 158,-84 158,-84 158,-143 158,-143 158,-149 152,-155 146,-155\"/>\n<text text-anchor=\"start\" x=\"8\" y=\"-139.8\" font-family=\"Helvetica,sans-Serif\" font-size=\"14.00\" fill=\"#000000\">texture_mean ≤ 10.55</text>\n<text text-anchor=\"start\" x=\"41\" y=\"-124.8\" font-family=\"Helvetica,sans-Serif\" font-size=\"14.00\" fill=\"#000000\">gini = 0.145</text>\n<text text-anchor=\"start\" x=\"31\" y=\"-109.8\" font-family=\"Helvetica,sans-Serif\" font-size=\"14.00\" fill=\"#000000\">samples = 153</text>\n<text text-anchor=\"start\" x=\"25\" y=\"-94.8\" font-family=\"Helvetica,sans-Serif\" font-size=\"14.00\" fill=\"#000000\">value = [141, 12]</text>\n<text text-anchor=\"start\" x=\"50\" y=\"-79.8\" font-family=\"Helvetica,sans-Serif\" font-size=\"14.00\" fill=\"#000000\">class = 0</text>\n</g>\n<!-- 1&#45;&gt;2 -->\n<g id=\"edge2\" class=\"edge\">\n<title>1&#45;&gt;2</title>\n<path fill=\"none\" stroke=\"#000000\" d=\"M193.4437,-190.8796C179.1082,-181.1868 163.7405,-170.7961 149.0675,-160.8752\"/>\n<polygon fill=\"#000000\" stroke=\"#000000\" points=\"150.7661,-157.7987 140.5215,-155.0969 146.8452,-163.5976 150.7661,-157.7987\"/>\n</g>\n<!-- 5 -->\n<g id=\"node6\" class=\"node\">\n<title>5</title>\n<path fill=\"#eeae80\" stroke=\"#000000\" d=\"M322,-155C322,-155 188,-155 188,-155 182,-155 176,-149 176,-143 176,-143 176,-84 176,-84 176,-78 182,-72 188,-72 188,-72 322,-72 322,-72 328,-72 334,-78 334,-84 334,-84 334,-143 334,-143 334,-149 328,-155 322,-155\"/>\n<text text-anchor=\"start\" x=\"184\" y=\"-139.8\" font-family=\"Helvetica,sans-Serif\" font-size=\"14.00\" fill=\"#000000\">texture_mean ≤ 18.46</text>\n<text text-anchor=\"start\" x=\"217\" y=\"-124.8\" font-family=\"Helvetica,sans-Serif\" font-size=\"14.00\" fill=\"#000000\">gini = 0.388</text>\n<text text-anchor=\"start\" x=\"207\" y=\"-109.8\" font-family=\"Helvetica,sans-Serif\" font-size=\"14.00\" fill=\"#000000\">samples = 163</text>\n<text text-anchor=\"start\" x=\"201\" y=\"-94.8\" font-family=\"Helvetica,sans-Serif\" font-size=\"14.00\" fill=\"#000000\">value = [120, 43]</text>\n<text text-anchor=\"start\" x=\"226\" y=\"-79.8\" font-family=\"Helvetica,sans-Serif\" font-size=\"14.00\" fill=\"#000000\">class = 0</text>\n</g>\n<!-- 1&#45;&gt;5 -->\n<g id=\"edge5\" class=\"edge\">\n<title>1&#45;&gt;5</title>\n<path fill=\"none\" stroke=\"#000000\" d=\"M255,-190.8796C255,-182.6838 255,-173.9891 255,-165.5013\"/>\n<polygon fill=\"#000000\" stroke=\"#000000\" points=\"258.5001,-165.298 255,-155.2981 251.5001,-165.2981 258.5001,-165.298\"/>\n</g>\n<!-- 3 -->\n<g id=\"node4\" class=\"node\">\n<title>3</title>\n<path fill=\"#c0c0c0\" stroke=\"#000000\" d=\"M58,-36C58,-36 28,-36 28,-36 22,-36 16,-30 16,-24 16,-24 16,-12 16,-12 16,-6 22,0 28,0 28,0 58,0 58,0 64,0 70,-6 70,-12 70,-12 70,-24 70,-24 70,-30 64,-36 58,-36\"/>\n<text text-anchor=\"middle\" x=\"43\" y=\"-14.3\" font-family=\"Helvetica,sans-Serif\" font-size=\"14.00\" fill=\"#000000\">(...)</text>\n</g>\n<!-- 2&#45;&gt;3 -->\n<g id=\"edge3\" class=\"edge\">\n<title>2&#45;&gt;3</title>\n<path fill=\"none\" stroke=\"#000000\" d=\"M63.3146,-71.8901C59.9739,-63.0279 56.525,-53.8788 53.4386,-45.6913\"/>\n<polygon fill=\"#000000\" stroke=\"#000000\" points=\"56.6877,-44.3878 49.8853,-36.2651 50.1376,-46.8569 56.6877,-44.3878\"/>\n</g>\n<!-- 4 -->\n<g id=\"node5\" class=\"node\">\n<title>4</title>\n<path fill=\"#c0c0c0\" stroke=\"#000000\" d=\"M130,-36C130,-36 100,-36 100,-36 94,-36 88,-30 88,-24 88,-24 88,-12 88,-12 88,-6 94,0 100,0 100,0 130,0 130,0 136,0 142,-6 142,-12 142,-12 142,-24 142,-24 142,-30 136,-36 130,-36\"/>\n<text text-anchor=\"middle\" x=\"115\" y=\"-14.3\" font-family=\"Helvetica,sans-Serif\" font-size=\"14.00\" fill=\"#000000\">(...)</text>\n</g>\n<!-- 2&#45;&gt;4 -->\n<g id=\"edge4\" class=\"edge\">\n<title>2&#45;&gt;4</title>\n<path fill=\"none\" stroke=\"#000000\" d=\"M94.6854,-71.8901C98.0261,-63.0279 101.475,-53.8788 104.5614,-45.6913\"/>\n<polygon fill=\"#000000\" stroke=\"#000000\" points=\"107.8624,-46.8569 108.1147,-36.2651 101.3123,-44.3878 107.8624,-46.8569\"/>\n</g>\n<!-- 6 -->\n<g id=\"node7\" class=\"node\">\n<title>6</title>\n<path fill=\"#c0c0c0\" stroke=\"#000000\" d=\"M236,-36C236,-36 206,-36 206,-36 200,-36 194,-30 194,-24 194,-24 194,-12 194,-12 194,-6 200,0 206,0 206,0 236,0 236,0 242,0 248,-6 248,-12 248,-12 248,-24 248,-24 248,-30 242,-36 236,-36\"/>\n<text text-anchor=\"middle\" x=\"221\" y=\"-14.3\" font-family=\"Helvetica,sans-Serif\" font-size=\"14.00\" fill=\"#000000\">(...)</text>\n</g>\n<!-- 5&#45;&gt;6 -->\n<g id=\"edge6\" class=\"edge\">\n<title>5&#45;&gt;6</title>\n<path fill=\"none\" stroke=\"#000000\" d=\"M240.186,-71.8901C237.0309,-63.0279 233.7736,-53.8788 230.8587,-45.6913\"/>\n<polygon fill=\"#000000\" stroke=\"#000000\" points=\"234.1541,-44.512 227.5028,-36.2651 227.5595,-46.8598 234.1541,-44.512\"/>\n</g>\n<!-- 7 -->\n<g id=\"node8\" class=\"node\">\n<title>7</title>\n<path fill=\"#c0c0c0\" stroke=\"#000000\" d=\"M308,-36C308,-36 278,-36 278,-36 272,-36 266,-30 266,-24 266,-24 266,-12 266,-12 266,-6 272,0 278,0 278,0 308,0 308,0 314,0 320,-6 320,-12 320,-12 320,-24 320,-24 320,-30 314,-36 308,-36\"/>\n<text text-anchor=\"middle\" x=\"293\" y=\"-14.3\" font-family=\"Helvetica,sans-Serif\" font-size=\"14.00\" fill=\"#000000\">(...)</text>\n</g>\n<!-- 5&#45;&gt;7 -->\n<g id=\"edge7\" class=\"edge\">\n<title>5&#45;&gt;7</title>\n<path fill=\"none\" stroke=\"#000000\" d=\"M271.5568,-71.8901C275.0831,-63.0279 278.7236,-53.8788 281.9815,-45.6913\"/>\n<polygon fill=\"#000000\" stroke=\"#000000\" points=\"285.287,-46.8506 285.7322,-36.2651 278.783,-44.2626 285.287,-46.8506\"/>\n</g>\n<!-- 9 -->\n<g id=\"node10\" class=\"node\">\n<title>9</title>\n<path fill=\"#a6d3f3\" stroke=\"#000000\" d=\"M506,-155C506,-155 364,-155 364,-155 358,-155 352,-149 352,-143 352,-143 352,-84 352,-84 352,-78 358,-72 364,-72 364,-72 506,-72 506,-72 512,-72 518,-78 518,-84 518,-84 518,-143 518,-143 518,-149 512,-155 506,-155\"/>\n<text text-anchor=\"start\" x=\"360\" y=\"-139.8\" font-family=\"Helvetica,sans-Serif\" font-size=\"14.00\" fill=\"#000000\">texture_mean ≤ 25.525</text>\n<text text-anchor=\"start\" x=\"397\" y=\"-124.8\" font-family=\"Helvetica,sans-Serif\" font-size=\"14.00\" fill=\"#000000\">gini = 0.458</text>\n<text text-anchor=\"start\" x=\"387\" y=\"-109.8\" font-family=\"Helvetica,sans-Serif\" font-size=\"14.00\" fill=\"#000000\">samples = 220</text>\n<text text-anchor=\"start\" x=\"381\" y=\"-94.8\" font-family=\"Helvetica,sans-Serif\" font-size=\"14.00\" fill=\"#000000\">value = [78, 142]</text>\n<text text-anchor=\"start\" x=\"406\" y=\"-79.8\" font-family=\"Helvetica,sans-Serif\" font-size=\"14.00\" fill=\"#000000\">class = 1</text>\n</g>\n<!-- 8&#45;&gt;9 -->\n<g id=\"edge9\" class=\"edge\">\n<title>8&#45;&gt;9</title>\n<path fill=\"none\" stroke=\"#000000\" d=\"M435,-190.8796C435,-182.6838 435,-173.9891 435,-165.5013\"/>\n<polygon fill=\"#000000\" stroke=\"#000000\" points=\"438.5001,-165.298 435,-155.2981 431.5001,-165.2981 438.5001,-165.298\"/>\n</g>\n<!-- 12 -->\n<g id=\"node13\" class=\"node\">\n<title>12</title>\n<path fill=\"#fbeade\" stroke=\"#000000\" d=\"M682,-155C682,-155 548,-155 548,-155 542,-155 536,-149 536,-143 536,-143 536,-84 536,-84 536,-78 542,-72 548,-72 548,-72 682,-72 682,-72 688,-72 694,-78 694,-84 694,-84 694,-143 694,-143 694,-149 688,-155 682,-155\"/>\n<text text-anchor=\"start\" x=\"544\" y=\"-139.8\" font-family=\"Helvetica,sans-Serif\" font-size=\"14.00\" fill=\"#000000\">texture_mean ≤ 30.92</text>\n<text text-anchor=\"start\" x=\"577\" y=\"-124.8\" font-family=\"Helvetica,sans-Serif\" font-size=\"14.00\" fill=\"#000000\">gini = 0.496</text>\n<text text-anchor=\"start\" x=\"571\" y=\"-109.8\" font-family=\"Helvetica,sans-Serif\" font-size=\"14.00\" fill=\"#000000\">samples = 33</text>\n<text text-anchor=\"start\" x=\"565\" y=\"-94.8\" font-family=\"Helvetica,sans-Serif\" font-size=\"14.00\" fill=\"#000000\">value = [18, 15]</text>\n<text text-anchor=\"start\" x=\"586\" y=\"-79.8\" font-family=\"Helvetica,sans-Serif\" font-size=\"14.00\" fill=\"#000000\">class = 0</text>\n</g>\n<!-- 8&#45;&gt;12 -->\n<g id=\"edge12\" class=\"edge\">\n<title>8&#45;&gt;12</title>\n<path fill=\"none\" stroke=\"#000000\" d=\"M497.9553,-190.8796C512.6166,-181.1868 528.3336,-170.7961 543.3401,-160.8752\"/>\n<polygon fill=\"#000000\" stroke=\"#000000\" points=\"545.6687,-163.5315 552.0803,-155.0969 541.8082,-157.6922 545.6687,-163.5315\"/>\n</g>\n<!-- 10 -->\n<g id=\"node11\" class=\"node\">\n<title>10</title>\n<path fill=\"#c0c0c0\" stroke=\"#000000\" d=\"M423,-36C423,-36 393,-36 393,-36 387,-36 381,-30 381,-24 381,-24 381,-12 381,-12 381,-6 387,0 393,0 393,0 423,0 423,0 429,0 435,-6 435,-12 435,-12 435,-24 435,-24 435,-30 429,-36 423,-36\"/>\n<text text-anchor=\"middle\" x=\"408\" y=\"-14.3\" font-family=\"Helvetica,sans-Serif\" font-size=\"14.00\" fill=\"#000000\">(...)</text>\n</g>\n<!-- 9&#45;&gt;10 -->\n<g id=\"edge10\" class=\"edge\">\n<title>9&#45;&gt;10</title>\n<path fill=\"none\" stroke=\"#000000\" d=\"M423.236,-71.8901C420.7579,-63.1253 418.2006,-54.0798 415.9054,-45.9615\"/>\n<polygon fill=\"#000000\" stroke=\"#000000\" points=\"419.2526,-44.9357 413.164,-36.2651 412.5166,-46.8401 419.2526,-44.9357\"/>\n</g>\n<!-- 11 -->\n<g id=\"node12\" class=\"node\">\n<title>11</title>\n<path fill=\"#c0c0c0\" stroke=\"#000000\" d=\"M495,-36C495,-36 465,-36 465,-36 459,-36 453,-30 453,-24 453,-24 453,-12 453,-12 453,-6 459,0 465,0 465,0 495,0 495,0 501,0 507,-6 507,-12 507,-12 507,-24 507,-24 507,-30 501,-36 495,-36\"/>\n<text text-anchor=\"middle\" x=\"480\" y=\"-14.3\" font-family=\"Helvetica,sans-Serif\" font-size=\"14.00\" fill=\"#000000\">(...)</text>\n</g>\n<!-- 9&#45;&gt;11 -->\n<g id=\"edge11\" class=\"edge\">\n<title>9&#45;&gt;11</title>\n<path fill=\"none\" stroke=\"#000000\" d=\"M454.6067,-71.8901C458.8285,-62.9305 463.1885,-53.6777 467.0788,-45.4217\"/>\n<polygon fill=\"#000000\" stroke=\"#000000\" points=\"470.2969,-46.8031 471.3934,-36.2651 463.9647,-43.8192 470.2969,-46.8031\"/>\n</g>\n<!-- 13 -->\n<g id=\"node14\" class=\"node\">\n<title>13</title>\n<path fill=\"#c0c0c0\" stroke=\"#000000\" d=\"M584,-36C584,-36 554,-36 554,-36 548,-36 542,-30 542,-24 542,-24 542,-12 542,-12 542,-6 548,0 554,0 554,0 584,0 584,0 590,0 596,-6 596,-12 596,-12 596,-24 596,-24 596,-30 590,-36 584,-36\"/>\n<text text-anchor=\"middle\" x=\"569\" y=\"-14.3\" font-family=\"Helvetica,sans-Serif\" font-size=\"14.00\" fill=\"#000000\">(...)</text>\n</g>\n<!-- 12&#45;&gt;13 -->\n<g id=\"edge13\" class=\"edge\">\n<title>12&#45;&gt;13</title>\n<path fill=\"none\" stroke=\"#000000\" d=\"M594.9575,-71.8901C590.6419,-62.9305 586.1851,-53.6777 582.2083,-45.4217\"/>\n<polygon fill=\"#000000\" stroke=\"#000000\" points=\"585.2908,-43.7556 577.7979,-36.2651 578.9842,-46.7933 585.2908,-43.7556\"/>\n</g>\n<!-- 14 -->\n<g id=\"node15\" class=\"node\">\n<title>14</title>\n<path fill=\"#c0c0c0\" stroke=\"#000000\" d=\"M656,-36C656,-36 626,-36 626,-36 620,-36 614,-30 614,-24 614,-24 614,-12 614,-12 614,-6 620,0 626,0 626,0 656,0 656,0 662,0 668,-6 668,-12 668,-12 668,-24 668,-24 668,-30 662,-36 656,-36\"/>\n<text text-anchor=\"middle\" x=\"641\" y=\"-14.3\" font-family=\"Helvetica,sans-Serif\" font-size=\"14.00\" fill=\"#000000\">(...)</text>\n</g>\n<!-- 12&#45;&gt;14 -->\n<g id=\"edge14\" class=\"edge\">\n<title>12&#45;&gt;14</title>\n<path fill=\"none\" stroke=\"#000000\" d=\"M626.3283,-71.8901C628.7146,-63.1253 631.1772,-54.0798 633.3874,-45.9615\"/>\n<polygon fill=\"#000000\" stroke=\"#000000\" points=\"636.7774,-46.8333 636.0273,-36.2651 630.0232,-44.9945 636.7774,-46.8333\"/>\n</g>\n</g>\n</svg>\n"
          },
          "metadata": {},
          "execution_count": 14
        }
      ]
    },
    {
      "cell_type": "markdown",
      "metadata": {
        "id": "CqZTZxgxmjV7"
      },
      "source": [
        "## **NEURAL NETWORK PROBLEM2**\n"
      ]
    },
    {
      "cell_type": "code",
      "metadata": {
        "id": "6h4ZHSFAmiiS"
      },
      "source": [
        "from typing import Tuple\n",
        "\n",
        "import numpy as np\n",
        "import pandas as pd\n",
        "\n",
        "from sklearn.metrics import roc_auc_score\n",
        "from sklearn.model_selection import train_test_split\n",
        "from sklearn.preprocessing import StandardScaler"
      ],
      "execution_count": null,
      "outputs": []
    },
    {
      "cell_type": "code",
      "metadata": {
        "colab": {
          "base_uri": "https://localhost:8080/",
          "height": 221
        },
        "id": "OmTMQpa5m0b7",
        "outputId": "b9c42001-fe96-4049-cd79-8dad6cdbb7aa"
      },
      "source": [
        "data = pd.read_csv(\"https://raw.githubusercontent.com/changyaochen/MECE4520/master/lectures/lecture_4/breast_cancer_data.csv\")\n",
        "data[\"label\"] = data[\"diagnosis\"].apply(lambda x: 0 if x == \"B\" else 1)\n",
        "data.head()"
      ],
      "execution_count": null,
      "outputs": [
        {
          "output_type": "execute_result",
          "data": {
            "text/html": [
              "<div>\n",
              "<style scoped>\n",
              "    .dataframe tbody tr th:only-of-type {\n",
              "        vertical-align: middle;\n",
              "    }\n",
              "\n",
              "    .dataframe tbody tr th {\n",
              "        vertical-align: top;\n",
              "    }\n",
              "\n",
              "    .dataframe thead th {\n",
              "        text-align: right;\n",
              "    }\n",
              "</style>\n",
              "<table border=\"1\" class=\"dataframe\">\n",
              "  <thead>\n",
              "    <tr style=\"text-align: right;\">\n",
              "      <th></th>\n",
              "      <th>id</th>\n",
              "      <th>diagnosis</th>\n",
              "      <th>radius_mean</th>\n",
              "      <th>texture_mean</th>\n",
              "      <th>perimeter_mean</th>\n",
              "      <th>area_mean</th>\n",
              "      <th>smoothness_mean</th>\n",
              "      <th>compactness_mean</th>\n",
              "      <th>concavity_mean</th>\n",
              "      <th>concave_mean</th>\n",
              "      <th>symmetry_mean</th>\n",
              "      <th>fractal_mean</th>\n",
              "      <th>radius_se</th>\n",
              "      <th>texture_se</th>\n",
              "      <th>perimeter_se</th>\n",
              "      <th>area_se</th>\n",
              "      <th>smoothness_se</th>\n",
              "      <th>compactness_se</th>\n",
              "      <th>concavity_se</th>\n",
              "      <th>concave_se</th>\n",
              "      <th>symmetry_se</th>\n",
              "      <th>fractal_se</th>\n",
              "      <th>radius_extreme</th>\n",
              "      <th>texture_extreme</th>\n",
              "      <th>perimeter_extreme</th>\n",
              "      <th>area_extreme</th>\n",
              "      <th>smoothness_extreme</th>\n",
              "      <th>compactness_extreme</th>\n",
              "      <th>concavity_extreme</th>\n",
              "      <th>concave_extreme</th>\n",
              "      <th>symmetry_extreme</th>\n",
              "      <th>fractal_extreme</th>\n",
              "      <th>label</th>\n",
              "    </tr>\n",
              "  </thead>\n",
              "  <tbody>\n",
              "    <tr>\n",
              "      <th>0</th>\n",
              "      <td>842302</td>\n",
              "      <td>M</td>\n",
              "      <td>17.99</td>\n",
              "      <td>10.38</td>\n",
              "      <td>122.80</td>\n",
              "      <td>1001.0</td>\n",
              "      <td>0.11840</td>\n",
              "      <td>0.27760</td>\n",
              "      <td>0.3001</td>\n",
              "      <td>0.14710</td>\n",
              "      <td>0.2419</td>\n",
              "      <td>0.07871</td>\n",
              "      <td>1.0950</td>\n",
              "      <td>0.9053</td>\n",
              "      <td>8.589</td>\n",
              "      <td>153.40</td>\n",
              "      <td>0.006399</td>\n",
              "      <td>0.04904</td>\n",
              "      <td>0.05373</td>\n",
              "      <td>0.01587</td>\n",
              "      <td>0.03003</td>\n",
              "      <td>0.006193</td>\n",
              "      <td>25.38</td>\n",
              "      <td>17.33</td>\n",
              "      <td>184.60</td>\n",
              "      <td>2019.0</td>\n",
              "      <td>0.1622</td>\n",
              "      <td>0.6656</td>\n",
              "      <td>0.7119</td>\n",
              "      <td>0.2654</td>\n",
              "      <td>0.4601</td>\n",
              "      <td>0.11890</td>\n",
              "      <td>1</td>\n",
              "    </tr>\n",
              "    <tr>\n",
              "      <th>1</th>\n",
              "      <td>842517</td>\n",
              "      <td>M</td>\n",
              "      <td>20.57</td>\n",
              "      <td>17.77</td>\n",
              "      <td>132.90</td>\n",
              "      <td>1326.0</td>\n",
              "      <td>0.08474</td>\n",
              "      <td>0.07864</td>\n",
              "      <td>0.0869</td>\n",
              "      <td>0.07017</td>\n",
              "      <td>0.1812</td>\n",
              "      <td>0.05667</td>\n",
              "      <td>0.5435</td>\n",
              "      <td>0.7339</td>\n",
              "      <td>3.398</td>\n",
              "      <td>74.08</td>\n",
              "      <td>0.005225</td>\n",
              "      <td>0.01308</td>\n",
              "      <td>0.01860</td>\n",
              "      <td>0.01340</td>\n",
              "      <td>0.01389</td>\n",
              "      <td>0.003532</td>\n",
              "      <td>24.99</td>\n",
              "      <td>23.41</td>\n",
              "      <td>158.80</td>\n",
              "      <td>1956.0</td>\n",
              "      <td>0.1238</td>\n",
              "      <td>0.1866</td>\n",
              "      <td>0.2416</td>\n",
              "      <td>0.1860</td>\n",
              "      <td>0.2750</td>\n",
              "      <td>0.08902</td>\n",
              "      <td>1</td>\n",
              "    </tr>\n",
              "    <tr>\n",
              "      <th>2</th>\n",
              "      <td>84300903</td>\n",
              "      <td>M</td>\n",
              "      <td>19.69</td>\n",
              "      <td>21.25</td>\n",
              "      <td>130.00</td>\n",
              "      <td>1203.0</td>\n",
              "      <td>0.10960</td>\n",
              "      <td>0.15990</td>\n",
              "      <td>0.1974</td>\n",
              "      <td>0.12790</td>\n",
              "      <td>0.2069</td>\n",
              "      <td>0.05999</td>\n",
              "      <td>0.7456</td>\n",
              "      <td>0.7869</td>\n",
              "      <td>4.585</td>\n",
              "      <td>94.03</td>\n",
              "      <td>0.006150</td>\n",
              "      <td>0.04006</td>\n",
              "      <td>0.03832</td>\n",
              "      <td>0.02058</td>\n",
              "      <td>0.02250</td>\n",
              "      <td>0.004571</td>\n",
              "      <td>23.57</td>\n",
              "      <td>25.53</td>\n",
              "      <td>152.50</td>\n",
              "      <td>1709.0</td>\n",
              "      <td>0.1444</td>\n",
              "      <td>0.4245</td>\n",
              "      <td>0.4504</td>\n",
              "      <td>0.2430</td>\n",
              "      <td>0.3613</td>\n",
              "      <td>0.08758</td>\n",
              "      <td>1</td>\n",
              "    </tr>\n",
              "    <tr>\n",
              "      <th>3</th>\n",
              "      <td>84348301</td>\n",
              "      <td>M</td>\n",
              "      <td>11.42</td>\n",
              "      <td>20.38</td>\n",
              "      <td>77.58</td>\n",
              "      <td>386.1</td>\n",
              "      <td>0.14250</td>\n",
              "      <td>0.28390</td>\n",
              "      <td>0.2414</td>\n",
              "      <td>0.10520</td>\n",
              "      <td>0.2597</td>\n",
              "      <td>0.09744</td>\n",
              "      <td>0.4956</td>\n",
              "      <td>1.1560</td>\n",
              "      <td>3.445</td>\n",
              "      <td>27.23</td>\n",
              "      <td>0.009110</td>\n",
              "      <td>0.07458</td>\n",
              "      <td>0.05661</td>\n",
              "      <td>0.01867</td>\n",
              "      <td>0.05963</td>\n",
              "      <td>0.009208</td>\n",
              "      <td>14.91</td>\n",
              "      <td>26.50</td>\n",
              "      <td>98.87</td>\n",
              "      <td>567.7</td>\n",
              "      <td>0.2098</td>\n",
              "      <td>0.8663</td>\n",
              "      <td>0.6869</td>\n",
              "      <td>0.2575</td>\n",
              "      <td>0.6638</td>\n",
              "      <td>0.17300</td>\n",
              "      <td>1</td>\n",
              "    </tr>\n",
              "    <tr>\n",
              "      <th>4</th>\n",
              "      <td>84358402</td>\n",
              "      <td>M</td>\n",
              "      <td>20.29</td>\n",
              "      <td>14.34</td>\n",
              "      <td>135.10</td>\n",
              "      <td>1297.0</td>\n",
              "      <td>0.10030</td>\n",
              "      <td>0.13280</td>\n",
              "      <td>0.1980</td>\n",
              "      <td>0.10430</td>\n",
              "      <td>0.1809</td>\n",
              "      <td>0.05883</td>\n",
              "      <td>0.7572</td>\n",
              "      <td>0.7813</td>\n",
              "      <td>5.438</td>\n",
              "      <td>94.44</td>\n",
              "      <td>0.011490</td>\n",
              "      <td>0.02461</td>\n",
              "      <td>0.05688</td>\n",
              "      <td>0.01885</td>\n",
              "      <td>0.01756</td>\n",
              "      <td>0.005115</td>\n",
              "      <td>22.54</td>\n",
              "      <td>16.67</td>\n",
              "      <td>152.20</td>\n",
              "      <td>1575.0</td>\n",
              "      <td>0.1374</td>\n",
              "      <td>0.2050</td>\n",
              "      <td>0.4000</td>\n",
              "      <td>0.1625</td>\n",
              "      <td>0.2364</td>\n",
              "      <td>0.07678</td>\n",
              "      <td>1</td>\n",
              "    </tr>\n",
              "  </tbody>\n",
              "</table>\n",
              "</div>"
            ],
            "text/plain": [
              "         id diagnosis  radius_mean  ...  symmetry_extreme  fractal_extreme  label\n",
              "0    842302         M        17.99  ...            0.4601          0.11890      1\n",
              "1    842517         M        20.57  ...            0.2750          0.08902      1\n",
              "2  84300903         M        19.69  ...            0.3613          0.08758      1\n",
              "3  84348301         M        11.42  ...            0.6638          0.17300      1\n",
              "4  84358402         M        20.29  ...            0.2364          0.07678      1\n",
              "\n",
              "[5 rows x 33 columns]"
            ]
          },
          "metadata": {},
          "execution_count": 2
        }
      ]
    },
    {
      "cell_type": "code",
      "metadata": {
        "id": "bF43FZUfm3gw"
      },
      "source": [
        "features = [\n",
        "    \"radius_extreme\",\n",
        "    \"texture_extreme\",\n",
        "    \"perimeter_extreme\",\n",
        "\n",
        "]\n",
        "label = \"label\"\n",
        "\n",
        "# train test split\n",
        "#X_raw, X_raw_test, Y, Y_test = train_test_split(data[features].values, data[label].values, test_size=0.2, random_state=42)\n",
        "X_raw= data[features].values\n",
        "Y= data[label].values\n",
        "# Standardize the input\n",
        "scaler = StandardScaler()\n",
        "scaler.fit(X_raw)\n",
        "X = scaler.transform(X_raw)\n",
        "X_test = scaler.transform(X_raw_test)\n",
        "\n",
        "# formatting\n",
        "Y = Y.reshape((-1, 1))\n",
        "Y_test = Y_test.reshape((-1, 1))"
      ],
      "execution_count": null,
      "outputs": []
    },
    {
      "cell_type": "code",
      "metadata": {
        "colab": {
          "base_uri": "https://localhost:8080/"
        },
        "id": "subZcN9InAei",
        "outputId": "338b1995-df5f-4bb8-81ee-4004d2090fa7"
      },
      "source": [
        "def sigmoid(x):\n",
        "    \"\"\"Calculates sigmoid function.\"\"\"\n",
        "    return 1. / (1 + np.exp(-x))\n",
        "\n",
        "def reLU(x):\n",
        "    return np.maximum(0.0,x)\n",
        "\n",
        "# parameters for the first layer\n",
        "W_1 = np.ones((5, X.shape[1]))\n",
        "print(f\"Shape of W_1 is {W_1.shape}\")\n",
        "\n",
        "b_1 = np.ones((5, 1))*0.1\n",
        "print(f\"Shape of b_1 is {b_1.shape}\")\n",
        "\n",
        "# parameters for the second layer\n",
        "W_2 = np.ones((1, 5))\n",
        "print(f\"Shape of W_2 is {W_2.shape}\")\n",
        "\n",
        "b_2 = np.ones((1, 1))*0.1\n",
        "print(f\"Shape of b_1 is {b_2.shape}\")\n",
        "\n",
        "# calculate the forward propagation\n",
        "Z_1 = X @ W_1.T\n",
        "print(f\"\\nShape of Z_1 is {Z_1.shape}\")\n",
        "print(\"Samples for Z_1:\")\n",
        "print(Z_1[:5])\n",
        "\n",
        "A_1 = reLU(Z_1 + b_1.T) \n",
        "print(f\"Shape of A_1 is {A_1.shape}\")\n",
        "print(\"Samples for A_1:\")\n",
        "print(A_1[:5])\n",
        "\n",
        "Z_2 = A_1 @ W_2.T\n",
        "print(f\"\\nShape of Z_2 is {Z_2.shape}\")\n",
        "print(\"Samples for Z_2:\")\n",
        "print(Z_1[:5])\n",
        "\n",
        "A_2 = Y_hat = sigmoid(Z_2 + b_2.T)\n",
        "print(f\"Shape of A_2 is {A_2.shape}\")\n",
        "print(\"Samples for A_2:\")\n",
        "print(A_2[:5])"
      ],
      "execution_count": null,
      "outputs": [
        {
          "output_type": "stream",
          "name": "stdout",
          "text": [
            "Shape of W_1 is (5, 3)\n",
            "Shape of b_1 is (5, 1)\n",
            "Shape of W_2 is (1, 5)\n",
            "Shape of b_1 is (1, 1)\n",
            "\n",
            "Shape of Z_1 is (569, 5)\n",
            "Samples for Z_1:\n",
            "[[ 2.83099678  2.83099678  2.83099678  2.83099678  2.83099678]\n",
            " [ 2.97185021  2.97185021  2.97185021  2.97185021  2.97185021]\n",
            " [ 2.83537107  2.83537107  2.83537107  2.83537107  2.83537107]\n",
            " [-0.39741967 -0.39741967 -0.39741967 -0.39741967 -0.39741967]\n",
            " [ 1.17034432  1.17034432  1.17034432  1.17034432  1.17034432]]\n",
            "Shape of A_1 is (569, 5)\n",
            "Samples for A_1:\n",
            "[[2.93099678 2.93099678 2.93099678 2.93099678 2.93099678]\n",
            " [3.07185021 3.07185021 3.07185021 3.07185021 3.07185021]\n",
            " [2.93537107 2.93537107 2.93537107 2.93537107 2.93537107]\n",
            " [0.         0.         0.         0.         0.        ]\n",
            " [1.27034432 1.27034432 1.27034432 1.27034432 1.27034432]]\n",
            "\n",
            "Shape of Z_2 is (569, 1)\n",
            "Samples for Z_2:\n",
            "[[ 2.83099678  2.83099678  2.83099678  2.83099678  2.83099678]\n",
            " [ 2.97185021  2.97185021  2.97185021  2.97185021  2.97185021]\n",
            " [ 2.83537107  2.83537107  2.83537107  2.83537107  2.83537107]\n",
            " [-0.39741967 -0.39741967 -0.39741967 -0.39741967 -0.39741967]\n",
            " [ 1.17034432  1.17034432  1.17034432  1.17034432  1.17034432]]\n",
            "Shape of A_2 is (569, 1)\n",
            "Samples for A_2:\n",
            "[[0.99999961]\n",
            " [0.99999981]\n",
            " [0.99999962]\n",
            " [0.52497919]\n",
            " [0.99842468]]\n"
          ]
        }
      ]
    },
    {
      "cell_type": "code",
      "metadata": {
        "colab": {
          "base_uri": "https://localhost:8080/"
        },
        "id": "W2gOYIXhn-H2",
        "outputId": "943b8809-ae36-4ccd-8971-a94bcb8ccfd5"
      },
      "source": [
        "print(np.mean(Y_hat))\n",
        "\n",
        "loss = -np.mean(np.multiply(Y, np.log(Y_hat)) + np.multiply(1 - Y, np.log(1 - Y_hat+1E-16)))"
      ],
      "execution_count": null,
      "outputs": [
        {
          "output_type": "stream",
          "name": "stdout",
          "text": [
            "0.7134461335701504\n"
          ]
        }
      ]
    },
    {
      "cell_type": "code",
      "metadata": {
        "colab": {
          "base_uri": "https://localhost:8080/"
        },
        "id": "HgL4aEPboM1C",
        "outputId": "4b680206-3e64-4015-8639-ebe4e8afd0ab"
      },
      "source": [
        "loss"
      ],
      "execution_count": null,
      "outputs": [
        {
          "output_type": "execute_result",
          "data": {
            "text/plain": [
              "0.6811257843182167"
            ]
          },
          "metadata": {},
          "execution_count": 7
        }
      ]
    },
    {
      "cell_type": "code",
      "metadata": {
        "id": "4xo4zOaAoX9v"
      },
      "source": [
        ""
      ],
      "execution_count": null,
      "outputs": []
    }
  ]
}